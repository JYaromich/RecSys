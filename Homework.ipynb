{
 "cells": [
  {
   "cell_type": "markdown",
   "id": "motivated-redhead",
   "metadata": {},
   "source": [
    "# Домашняя работа"
   ]
  },
  {
   "cell_type": "markdown",
   "id": "touched-edgar",
   "metadata": {},
   "source": [
    "### 1. Доделать все функции, где стоит комментарий \"сделать дома\""
   ]
  },
  {
   "cell_type": "markdown",
   "id": "coordinate-quick",
   "metadata": {},
   "source": [
    "**Hitrate**"
   ]
  },
  {
   "cell_type": "code",
   "execution_count": 1,
   "id": "charming-agent",
   "metadata": {},
   "outputs": [],
   "source": [
    "import pandas as pd\n",
    "import numpy as np"
   ]
  },
  {
   "cell_type": "code",
   "execution_count": 4,
   "id": "modular-blanket",
   "metadata": {},
   "outputs": [],
   "source": [
    "def hit_rate(recommended_list, bought_list):\n",
    "    \n",
    "    bought_list = np.array(bought_list)\n",
    "    recommended_list = np.array(recommended_list)\n",
    "    \n",
    "    flags = np.isin(bought_list, recommended_list)\n",
    "    \n",
    "    hit_rate = (flags.sum() > 0) * 1\n",
    "    \n",
    "    return hit_rate\n",
    "\n",
    "\n",
    "def hit_rate_at_k(recommended_list, bought_list, k=5):\n",
    "    return hit_rate(recommended_list=recommended_list[:k], \n",
    "                   bought_list=bought_list)"
   ]
  },
  {
   "cell_type": "code",
   "execution_count": 8,
   "id": "taken-reply",
   "metadata": {},
   "outputs": [
    {
     "data": {
      "text/plain": [
       "(1, 1)"
      ]
     },
     "execution_count": 8,
     "metadata": {},
     "output_type": "execute_result"
    }
   ],
   "source": [
    "recommended_list = [143, 523, 1134, 991, 27, 1543, 3345, 533, 11, 43] #id товаров\n",
    "bought_list = [143, 523, 1134, 991]\n",
    "\n",
    "hit_rate(recommended_list, bought_list), hit_rate_at_k(recommended_list, bought_list)"
   ]
  },
  {
   "cell_type": "markdown",
   "id": "opened-samba",
   "metadata": {},
   "source": [
    "**Precision**"
   ]
  },
  {
   "cell_type": "code",
   "execution_count": 11,
   "id": "cross-eclipse",
   "metadata": {},
   "outputs": [
    {
     "data": {
      "text/plain": [
       "[32.646,\n",
       " 69.987,\n",
       " 17.996,\n",
       " 15.301,\n",
       " 56.344,\n",
       " 27.649,\n",
       " 18.483,\n",
       " 32.358,\n",
       " 92.605,\n",
       " 10.769]"
      ]
     },
     "execution_count": 11,
     "metadata": {},
     "output_type": "execute_result"
    }
   ],
   "source": [
    "from IPython.core.debugger import set_trace\n",
    "\n",
    "prices_recommended = [round(np.random.uniform(1, 100), 3) for _ in recommended_list]\n",
    "prices_recommended"
   ]
  },
  {
   "cell_type": "code",
   "execution_count": 14,
   "id": "norwegian-screening",
   "metadata": {},
   "outputs": [
    {
     "data": {
      "text/plain": [
       "0.7069598593673612"
      ]
     },
     "execution_count": 14,
     "metadata": {},
     "output_type": "execute_result"
    }
   ],
   "source": [
    "def precision(recommended_list, bought_list):\n",
    "    \n",
    "    bought_list = np.array(bought_list)\n",
    "    recommended_list = np.array(recommended_list)\n",
    "    \n",
    "    flags = np.isin(bought_list, recommended_list)\n",
    "    \n",
    "    precision = flags.sum() / len(recommended_list)\n",
    "    \n",
    "    return precision\n",
    "\n",
    "\n",
    "def precision_at_k(recommended_list, bought_list, k=5):\n",
    "    \n",
    "    bought_list = np.array(bought_list)\n",
    "    recommended_list = np.array(recommended_list)\n",
    "    \n",
    "    bought_list = bought_list  # Тут нет [:k] !!\n",
    "    recommended_list = recommended_list[:k]\n",
    "    \n",
    "    flags = np.isin(bought_list, recommended_list)\n",
    "    \n",
    "    precision = flags.sum() / len(recommended_list)\n",
    "    \n",
    "    \n",
    "    return precision\n",
    "\n",
    "\n",
    "def money_precision_at_k(recommended_list, bought_list, prices_recommended, k=5):\n",
    "        \n",
    "    bought_list = np.array(bought_list)\n",
    "    recommended_list = np.array(recommended_list[:k])\n",
    "    prices_recommended = np.array(prices_recommended[:k])\n",
    "    \n",
    "    flags = np.isin(recommended_list, bought_list)\n",
    "    \n",
    "    precision = np.dot(flags, prices_recommended) / np.sum(prices_recommended)\n",
    "    \n",
    "    return precision\n",
    "\n",
    "money_precision_at_k(recommended_list, bought_list, prices_recommended)"
   ]
  },
  {
   "cell_type": "markdown",
   "id": "regional-homework",
   "metadata": {},
   "source": [
    "**Recall**"
   ]
  },
  {
   "cell_type": "code",
   "execution_count": 17,
   "id": "failing-spain",
   "metadata": {},
   "outputs": [],
   "source": [
    "bought_list = [143, 523, 1134, 991, 1, 2, 3]\n",
    "prices_bought = [32.646, 69.987, 17.996, 15.301, 30, 50, 100]"
   ]
  },
  {
   "cell_type": "code",
   "execution_count": 19,
   "id": "governmental-oliver",
   "metadata": {},
   "outputs": [
    {
     "data": {
      "text/plain": [
       "0.4302535371759567"
      ]
     },
     "execution_count": 19,
     "metadata": {},
     "output_type": "execute_result"
    }
   ],
   "source": [
    "def recall(recommended_list, bought_list):\n",
    "    \n",
    "    bought_list = np.array(bought_list)\n",
    "    recommended_list = np.array(recommended_list)\n",
    "    \n",
    "    flags = np.isin(bought_list, recommended_list)\n",
    "    \n",
    "    recall = flags.sum() / len(bought_list)\n",
    "    \n",
    "    return recall\n",
    "\n",
    "\n",
    "def recall_at_k(recommended_list, bought_list, k=5):\n",
    "    return recall(recommended_list[:k], bought_list)\n",
    "\n",
    "# (revenue of recommended items @k that are relevant) / (revenue of relevant items)\n",
    "def money_recall_at_k(recommended_list, bought_list, prices_recommended, prices_bought, k=5):\n",
    "    bought_list = np.array(bought_list)\n",
    "    recommended_list = np.array(recommended_list[:k])\n",
    "    prices_recommended = np.array(prices_recommended[:k])\n",
    "    prices_bought = np.array(prices_bought)\n",
    "    \n",
    "    flags = np.isin(recommended_list, bought_list)\n",
    "    \n",
    "    recall = np.dot(prices_recommended, flags) / np.sum(prices_bought)\n",
    "    \n",
    "    return recall\n",
    "\n",
    "money_recall_at_k(recommended_list, bought_list, prices_recommended, prices_bought)"
   ]
  },
  {
   "cell_type": "markdown",
   "id": "brief-scratch",
   "metadata": {},
   "source": [
    "**ap@k**"
   ]
  },
  {
   "cell_type": "code",
   "execution_count": 22,
   "id": "excited-needle",
   "metadata": {},
   "outputs": [],
   "source": [
    "def ap_k(recommended_list, bought_list, k=5):\n",
    "    \n",
    "    bought_list = np.array(bought_list)\n",
    "    recommended_list = np.array(recommended_list)[:k]\n",
    "    \n",
    "    relevant_indexes = np.nonzero(np.isin(recommended_list, bought_list))[0]\n",
    "    \n",
    "    if len(relevant_indexes) == 0:\n",
    "        return 0\n",
    "    \n",
    "    amount_relevant = len(relevant_indexes)\n",
    "    \n",
    "    sum_ = sum([precision_at_k(recommended_list, bought_list, k=index_relevant+1) for index_relevant in relevant_indexes])\n",
    "    return sum_ / amount_relevant"
   ]
  },
  {
   "cell_type": "markdown",
   "id": "unusual-perspective",
   "metadata": {},
   "source": [
    "**map@k**"
   ]
  },
  {
   "cell_type": "code",
   "execution_count": 32,
   "id": "plastic-surgery",
   "metadata": {},
   "outputs": [],
   "source": [
    "# теперь список из 3 пользователей\n",
    "recommended_list_3_users = [[143, 156, 1134, 991, 27, 1543, 3345, 533, 11, 43], \n",
    "                    [1134, 533, 14, 4, 15, 1543, 1, 99, 27, 3345],\n",
    "                    [991, 3345, 27, 533, 43, 143, 1543, 156, 1134, 11]\n",
    "                           ]\n",
    "\n",
    "bought_list_3_users = [[521, 32, 143],  # юзер 1\n",
    "                       [143, 533, 4, 43, 11], # юзер 2\n",
    "                       [991, 2]] # юзер 3\n",
    "\n"
   ]
  },
  {
   "cell_type": "code",
   "execution_count": 37,
   "id": "complex-discovery",
   "metadata": {},
   "outputs": [
    {
     "data": {
      "text/plain": [
       "0.8333333333333334"
      ]
     },
     "execution_count": 37,
     "metadata": {},
     "output_type": "execute_result"
    }
   ],
   "source": [
    "def map_k(recommended_list, bought_list, k=5):\n",
    "#     set_trace()\n",
    "    result = np.array(\n",
    "        list(map(lambda x: ap_k(x[0], x[1], k=k), zip(recommended_list_3_users, bought_list_3_users)))\n",
    "    )\n",
    "    \n",
    "    return result.mean()\n",
    "\n",
    "map_k(recommended_list_3_users, bought_list_3_users)"
   ]
  },
  {
   "cell_type": "markdown",
   "id": "coordinate-effectiveness",
   "metadata": {},
   "source": [
    "**ndcg@k**"
   ]
  },
  {
   "cell_type": "code",
   "execution_count": 38,
   "id": "separated-magnitude",
   "metadata": {},
   "outputs": [],
   "source": [
    "recommended_list = [143, 156, 1134, 991, 27, 1543, 3345, 533, 11, 43]\n",
    "bought_list = [521, 32, 143]"
   ]
  },
  {
   "cell_type": "code",
   "execution_count": 41,
   "id": "fleet-annual",
   "metadata": {},
   "outputs": [
    {
     "data": {
      "text/plain": [
       "0.3266259271143027"
      ]
     },
     "execution_count": 41,
     "metadata": {},
     "output_type": "execute_result"
    }
   ],
   "source": [
    "def ndcg_at_k(recommended_list, bought_list, k=5):\n",
    "    def dcg(flags):\n",
    "        result = np.array([\n",
    "            [flag / i if i <=2 else flag / np.log2(i) for i, flag in enumerate(flags, start=1)]\n",
    "        ])\n",
    "        return np.mean(result)\n",
    "    \n",
    "    recommended_list = np.array(recommended_list[:k])\n",
    "    bought_list = np.array(bought_list)\n",
    "    \n",
    "    flags = np.isin(recommended_list, bought_list)\n",
    "    \n",
    "    return dcg(flags) / dcg([1 for _ in flags])\n",
    "\n",
    "\n",
    "ndcg_at_k(recommended_list, bought_list)\n",
    "   "
   ]
  },
  {
   "cell_type": "markdown",
   "id": "permanent-wealth",
   "metadata": {},
   "source": [
    "**MRR@K**"
   ]
  },
  {
   "cell_type": "code",
   "execution_count": 61,
   "id": "tested-protection",
   "metadata": {},
   "outputs": [],
   "source": [
    "# теперь список из 3 пользователей\n",
    "recommended_list_3_users = [[143, 156, 1134, 991, 27, 1543, 3345, 533, 11, 43], \n",
    "                    [1134, 533, 14, 4, 15, 1543, 1, 99, 27, 3345],\n",
    "                    [991, 3345, 27, 533, 43, 143, 1543, 156, 1134, 11]]\n",
    "\n",
    "bought_list_3_users = [[143, 32, 143],  # юзер 1\n",
    "                       [23, 156, 991, 14, 11], # юзер 2\n",
    "                       [991,2]] # юзер 3"
   ]
  },
  {
   "cell_type": "code",
   "execution_count": 62,
   "id": "scheduled-cloud",
   "metadata": {},
   "outputs": [
    {
     "data": {
      "text/plain": [
       "0.8333333333333334"
      ]
     },
     "execution_count": 62,
     "metadata": {},
     "output_type": "execute_result"
    }
   ],
   "source": [
    "def mean_reciprocal_rank(recommended_list, bought_list, k=3):\n",
    "    def reciprocal_rank(recommended_list, bought_list):\n",
    "        recommended_list = np.array(recommended_list[:k])\n",
    "        bought_list = np.array(bought_list)\n",
    "        \n",
    "        first_isin = np.nonzero(np.isin(recommended_list, bought_list))[0]\n",
    "        first_isin = np.where(first_isin == 0, first_isin + 1, first_isin)\n",
    "        \n",
    "        return 0 if not first_isin else 1 / first_isin\n",
    "    \n",
    "    return np.mean(list(map(\n",
    "        lambda x: reciprocal_rank(x[0], x[1]),\n",
    "        zip(recommended_list, bought_list)\n",
    "    )))\n",
    "\n",
    "mean_reciprocal_rank(recommended_list_3_users, bought_list_3_users)"
   ]
  },
  {
   "cell_type": "markdown",
   "id": "excellent-pixel",
   "metadata": {},
   "source": [
    "### 2. Приведите еще примеры метрик для оценки рекомендаций/ранжирования (можно взять из интернета, или ваши знания)"
   ]
  },
  {
   "cell_type": "markdown",
   "id": "challenging-stroke",
   "metadata": {},
   "source": [
    "**CG@K (Cumulative Gain at K)**"
   ]
  },
  {
   "cell_type": "markdown",
   "id": "working-sigma",
   "metadata": {},
   "source": [
    "$$CG@K=\\sum_{k=1}^K{r^{\\text{true}}(\\pi^{-1}(k))}$$"
   ]
  },
  {
   "cell_type": "markdown",
   "id": "incorporate-sport",
   "metadata": {},
   "source": [
    "*Плюсы:*\n",
    "* подходит и для не бинарной классификации\n",
    "\n",
    "*Минусы*\n",
    "* не нормализована\n",
    "* не учитывает позицию релевантных векторов"
   ]
  },
  {
   "cell_type": "markdown",
   "id": "technical-filling",
   "metadata": {},
   "source": [
    "Пример"
   ]
  },
  {
   "cell_type": "code",
   "execution_count": 63,
   "id": "loose-private",
   "metadata": {},
   "outputs": [
    {
     "data": {
      "text/plain": [
       "2"
      ]
     },
     "execution_count": 63,
     "metadata": {},
     "output_type": "execute_result"
    }
   ],
   "source": [
    "r_true = [1, 0, 1, 0] #флаги покупок\n",
    "cg_at_k = sum(r_true)\n",
    "cg_at_k"
   ]
  },
  {
   "cell_type": "markdown",
   "id": "coated-narrow",
   "metadata": {},
   "source": [
    "**Discounted Cumulative Gain at K**"
   ]
  },
  {
   "cell_type": "markdown",
   "id": "beginning-diversity",
   "metadata": {},
   "source": [
    "$$DCG@K=\\sum_{k=1}^K\\frac{2^{r^{\\text{true}}(\\pi^{-1}(k))}-1}{\\log_2(k+1)}$$"
   ]
  },
  {
   "cell_type": "markdown",
   "id": "reflected-regulation",
   "metadata": {},
   "source": [
    "*Плюсы:*\n",
    "* подходит и для не бинарной классификации\n",
    "* ранжированная метрика\n",
    "\n",
    "*Минусы*\n",
    "* не нормализована"
   ]
  },
  {
   "cell_type": "markdown",
   "id": "lyric-paris",
   "metadata": {},
   "source": [
    "**Expected reciprocal rank (ERR)**"
   ]
  },
  {
   "cell_type": "markdown",
   "id": "defensive-limit",
   "metadata": {},
   "source": [
    "$$ERR@K=\\sum_{k=1}^{K}\\frac{1}{k}P(\\text{обьект остановиться на элементе с рангом k})$$"
   ]
  },
  {
   "cell_type": "markdown",
   "id": "scenic-motor",
   "metadata": {},
   "source": [
    "$$P(\\text{обьект остановиться на элементе с рангом k})=p_k\\prod_{i=1}^{k-1}(1-p_i)$$"
   ]
  },
  {
   "cell_type": "markdown",
   "id": "graduate-generator",
   "metadata": {},
   "source": [
    "где $p_k$ — вероятность того, что пользователь будет удовлетворен объектом с рангом $r^{\\text{true}}$. "
   ]
  },
  {
   "cell_type": "markdown",
   "id": "colonial-technique",
   "metadata": {},
   "source": [
    "$$p_k=\\frac{2^{r^{\\text{true}}(\\pi^{-1}(k))}-1}{2^{\\text{max}r^{\\text{true}}(\\pi^{-1}(k))}-1}$$"
   ]
  },
  {
   "cell_type": "markdown",
   "id": "motivated-selling",
   "metadata": {},
   "source": [
    "**PFound**"
   ]
  },
  {
   "cell_type": "markdown",
   "id": "rental-scottish",
   "metadata": {},
   "source": [
    "$$PFound@K=\\sum_{k=1}^kPLook(k)\\cdot PRel(k)$$"
   ]
  },
  {
   "cell_type": "markdown",
   "id": "exciting-perry",
   "metadata": {},
   "source": [
    "$$PLook(k)=PLook(k-1)(1-PRel(k-1))(1-PBreak)$$\n",
    "$$PRel=2^{r^{\\text{true}}(\\pi^{-1}(k))}-1$$\n",
    "$$PBreak=\\text{вероятность того, что пользователь прекратит просмотр по внешним причинам}$$"
   ]
  },
  {
   "cell_type": "code",
   "execution_count": null,
   "id": "furnished-medline",
   "metadata": {},
   "outputs": [],
   "source": []
  }
 ],
 "metadata": {
  "kernelspec": {
   "display_name": "Python 3 (ipykernel)",
   "language": "python",
   "name": "python3"
  },
  "language_info": {
   "codemirror_mode": {
    "name": "ipython",
    "version": 3
   },
   "file_extension": ".py",
   "mimetype": "text/x-python",
   "name": "python",
   "nbconvert_exporter": "python",
   "pygments_lexer": "ipython3",
   "version": "3.8.5"
  },
  "nbTranslate": {
   "displayLangs": [
    "*"
   ],
   "hotkey": "alt-t",
   "langInMainMenu": true,
   "sourceLang": "en",
   "targetLang": "fr",
   "useGoogleTranslate": true
  }
 },
 "nbformat": 4,
 "nbformat_minor": 5
}

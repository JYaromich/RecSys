{
 "cells": [
  {
   "cell_type": "markdown",
   "id": "0de5862f",
   "metadata": {},
   "source": [
    "# Домашняя работа"
   ]
  },
  {
   "cell_type": "markdown",
   "id": "fe786dcd",
   "metadata": {},
   "source": [
    "-------------------------------------------------------"
   ]
  },
  {
   "cell_type": "markdown",
   "id": "570c814a",
   "metadata": {},
   "source": [
    "# Import libs"
   ]
  },
  {
   "cell_type": "code",
   "execution_count": 69,
   "id": "2a1cd522",
   "metadata": {},
   "outputs": [],
   "source": [
    "import pandas as pd\n",
    "import numpy as np\n",
    "import matplotlib.pyplot as plt\n",
    "%matplotlib inline\n",
    "\n",
    "# Для работы с матрицами\n",
    "from scipy.sparse import csr_matrix\n",
    "\n",
    "# Матричная факторизация\n",
    "from implicit import als\n",
    "\n",
    "# Модель второго уровня\n",
    "from lightgbm import LGBMClassifier\n",
    "\n",
    "import os, sys\n",
    "sys.path.append(os.path.abspath('../src/'))\n",
    "\n",
    "# Написанные нами функции\n",
    "from metrics import precision_at_k, recall_at_k\n",
    "from utils import prefilter_items\n",
    "from recommenders import MainRecommender"
   ]
  },
  {
   "cell_type": "code",
   "execution_count": 70,
   "id": "47d1b13e",
   "metadata": {},
   "outputs": [],
   "source": [
    "import requests\n",
    "\n",
    "tg_api_token = '5043397400:AAExpKcTarTWA2nYlvB_rOyL7vMVe8e1DFw'\n",
    "tg_chat_id = '1971178318'\n",
    "\n",
    "def send_tg_message(text='Cell execution completed.'):\n",
    "    requests.post(\n",
    "        'https://api.telegram.org/' +\n",
    "        'bot{}/sendMessage'.format(tg_api_token), \n",
    "        params=dict(chat_id=tg_chat_id, text=text)\n",
    "    )"
   ]
  },
  {
   "cell_type": "markdown",
   "id": "f7a9e8d2",
   "metadata": {},
   "source": [
    "## Read data"
   ]
  },
  {
   "cell_type": "code",
   "execution_count": 71,
   "id": "97bbdefe",
   "metadata": {
    "scrolled": true
   },
   "outputs": [],
   "source": [
    "from pathlib import Path\n",
    "\n",
    "DATA_PATH = Path('../Data/')\n",
    "RETAIL_TRAIN_PATH = DATA_PATH / 'retail_train.csv'\n",
    "ITEM_FEATURE_PATH = DATA_PATH / 'product.csv'\n",
    "USER_FEATURE_PATH = DATA_PATH / 'hh_demographic.csv'\n",
    "\n",
    "data = pd.read_csv(RETAIL_TRAIN_PATH)\n",
    "item_features = pd.read_csv(ITEM_FEATURE_PATH)\n",
    "user_features = pd.read_csv(USER_FEATURE_PATH)\n"
   ]
  },
  {
   "cell_type": "markdown",
   "id": "0c2ec8a4",
   "metadata": {},
   "source": [
    "# Process features dataset"
   ]
  },
  {
   "cell_type": "code",
   "execution_count": 72,
   "id": "4fa29959",
   "metadata": {},
   "outputs": [],
   "source": [
    "ITEM_COL = 'item_id'\n",
    "USER_COL = 'user_id'\n",
    "\n",
    "# column processing\n",
    "item_features.columns = [col.lower() for col in item_features.columns]\n",
    "user_features.columns = [col.lower() for col in user_features.columns]\n",
    "\n",
    "item_features.rename(columns={'product_id': ITEM_COL}, inplace=True)\n",
    "user_features.rename(columns={'household_key': USER_COL }, inplace=True)"
   ]
  },
  {
   "cell_type": "markdown",
   "id": "866d9db7",
   "metadata": {},
   "source": [
    "# Split dataset for train, eval, test"
   ]
  },
  {
   "cell_type": "code",
   "execution_count": 73,
   "id": "2f8d43e0",
   "metadata": {},
   "outputs": [],
   "source": [
    "# Важна схема обучения и валидации!\n",
    "# -- давние покупки -- | -- 6 недель -- | -- 3 недель -- \n",
    "# подобрать размер 2-ого датасета (6 недель) --> learning curve (зависимость метрики recall@k от размера датасета)\n",
    "\n",
    "\n",
    "VAL_MATCHER_WEEKS = 6\n",
    "VAL_RANKER_WEEKS = 3"
   ]
  },
  {
   "cell_type": "code",
   "execution_count": 74,
   "id": "2b8f3267",
   "metadata": {},
   "outputs": [],
   "source": [
    "# данные со старых покупок до 9 недельной давности. Тренировка для модели первого уровня\n",
    "data_train_matcher = data[data['week_no'] < data['week_no'].max() - (VAL_MATCHER_WEEKS + VAL_RANKER_WEEKS)]\n",
    "\n",
    "# данные от 9 недельной давности до 3 недельной давности. Тест для модели первого уровня\n",
    "data_val_matcher = data[(data['week_no'] >= data['week_no'].max() - (VAL_MATCHER_WEEKS + VAL_RANKER_WEEKS)) &\n",
    "                      (data['week_no'] < data['week_no'].max() - (VAL_RANKER_WEEKS))]\n",
    "\n",
    "\n",
    "# берем данные для тренировки ranking модели\n",
    "data_train_ranker = data_val_matcher.copy()  # Для наглядности. Далее мы добавим изменения, и они будут отличаться\n",
    "\n",
    "# берем данные для теста ranking, matching модели (не более 3 недельной давности)\n",
    "data_val_ranker = data[data['week_no'] >= data['week_no'].max() - VAL_RANKER_WEEKS]"
   ]
  },
  {
   "cell_type": "code",
   "execution_count": 75,
   "id": "a497b8e9",
   "metadata": {},
   "outputs": [],
   "source": [
    "def print_stats_data(df_data, name_df):\n",
    "    print(name_df)\n",
    "    print(f\"Shape: {df_data.shape} Users: {df_data[USER_COL].nunique()} Items: {df_data[ITEM_COL].nunique()}\")"
   ]
  },
  {
   "cell_type": "code",
   "execution_count": 76,
   "id": "312dbafc",
   "metadata": {},
   "outputs": [
    {
     "name": "stdout",
     "output_type": "stream",
     "text": [
      "train_matcher\n",
      "Shape: (2108779, 12) Users: 2498 Items: 83685\n",
      "val_matcher\n",
      "Shape: (169711, 12) Users: 2154 Items: 27649\n",
      "train_ranker\n",
      "Shape: (169711, 12) Users: 2154 Items: 27649\n",
      "val_ranker\n",
      "Shape: (118314, 12) Users: 2042 Items: 24329\n"
     ]
    }
   ],
   "source": [
    "print_stats_data(data_train_matcher,'train_matcher')\n",
    "print_stats_data(data_val_matcher,'val_matcher')\n",
    "print_stats_data(data_train_ranker,'train_ranker')\n",
    "print_stats_data(data_val_ranker,'val_ranker')"
   ]
  },
  {
   "cell_type": "markdown",
   "id": "052034fb",
   "metadata": {},
   "source": [
    "# Prefilter items"
   ]
  },
  {
   "cell_type": "markdown",
   "id": "fe2df2e7",
   "metadata": {},
   "source": [
    "**TODO**: подобрать другие числа для take_n_popular"
   ]
  },
  {
   "cell_type": "code",
   "execution_count": 77,
   "id": "2d8128bf",
   "metadata": {},
   "outputs": [
    {
     "name": "stdout",
     "output_type": "stream",
     "text": [
      "Decreased # items from 83685 to 5000\n"
     ]
    }
   ],
   "source": [
    "n_items_before = data_train_matcher['item_id'].nunique()\n",
    "\n",
    "data_train_matcher = prefilter_items(data_train_matcher, \n",
    "                                     items_data=item_features, \n",
    "                                     take_n_popular=5000,\n",
    "                                     warm_start=True\n",
    "                                    )\n",
    "\n",
    "n_items_after = data_train_matcher['item_id'].nunique()\n",
    "print('Decreased # items from {} to {}'.format(n_items_before, n_items_after))"
   ]
  },
  {
   "cell_type": "markdown",
   "id": "52dd66b6",
   "metadata": {},
   "source": [
    "# Make cold-start to warm-start"
   ]
  },
  {
   "cell_type": "markdown",
   "id": "8943599b",
   "metadata": {},
   "source": [
    "**TODO**: make cold-start"
   ]
  },
  {
   "cell_type": "code",
   "execution_count": 78,
   "id": "e9c88d01",
   "metadata": {},
   "outputs": [
    {
     "name": "stdout",
     "output_type": "stream",
     "text": [
      "train_matcher\n",
      "Shape: (1013530, 13) Users: 1904 Items: 5000\n",
      "val_matcher\n",
      "Shape: (162611, 12) Users: 1904 Items: 26640\n",
      "train_ranker\n",
      "Shape: (162611, 12) Users: 1904 Items: 26640\n",
      "val_ranker\n",
      "Shape: (115539, 12) Users: 1904 Items: 23734\n"
     ]
    }
   ],
   "source": [
    "# ищем общих пользователей\n",
    "common_users = list(set(data_train_matcher.user_id.values)&(set(data_val_matcher.user_id.values))&set(data_val_ranker.user_id.values))\n",
    "\n",
    "# warm-start: оставляем только тех пользователей которые есть во всех трех наборах данных\n",
    "data_train_matcher = data_train_matcher[data_train_matcher.user_id.isin(common_users)]\n",
    "data_val_matcher = data_val_matcher[data_val_matcher.user_id.isin(common_users)]\n",
    "data_train_ranker = data_train_ranker[data_train_ranker.user_id.isin(common_users)]\n",
    "data_val_ranker = data_val_ranker[data_val_ranker.user_id.isin(common_users)]\n",
    "\n",
    "print_stats_data(data_train_matcher,'train_matcher')\n",
    "print_stats_data(data_val_matcher,'val_matcher')\n",
    "print_stats_data(data_train_ranker,'train_ranker')\n",
    "print_stats_data(data_val_ranker,'val_ranker')"
   ]
  },
  {
   "cell_type": "markdown",
   "id": "5593d8dd",
   "metadata": {},
   "source": [
    "# Init/train recommender"
   ]
  },
  {
   "cell_type": "markdown",
   "id": "d6937543",
   "metadata": {},
   "source": [
    "**#TODO**: попробовать другие модели LinearRegression, LightFM"
   ]
  },
  {
   "cell_type": "code",
   "execution_count": 79,
   "id": "2445d1d2",
   "metadata": {},
   "outputs": [
    {
     "data": {
      "application/vnd.jupyter.widget-view+json": {
       "model_id": "e19229297dab49bbb863d467be5d8a21",
       "version_major": 2,
       "version_minor": 0
      },
      "text/plain": [
       "  0%|          | 0/5000 [00:00<?, ?it/s]"
      ]
     },
     "metadata": {},
     "output_type": "display_data"
    }
   ],
   "source": [
    "# ALS\n",
    "recommender = MainRecommender(data_train_matcher, item_features=item_features, warm_start=True)"
   ]
  },
  {
   "cell_type": "markdown",
   "id": "b868e92d",
   "metadata": {},
   "source": [
    "# Get candidates"
   ]
  },
  {
   "cell_type": "markdown",
   "id": "5b3bce34",
   "metadata": {},
   "source": [
    "**Задание 1.**\n",
    "\n",
    "A) Попробуйте различные варианты генерации кандидатов. Какие из них дают наибольший recall@k ?\n",
    "- Пока пробуем отобрать 50 кандидатов (k=50)\n",
    "- Качество измеряем на data_val_matcher: следующие 6 недель после трейна\n",
    "\n",
    "Дают ли own recommendtions + top-popular лучший recall?  \n",
    "\n",
    "B)* Как зависит recall@k от k? Постройте для одной схемы генерации кандидатов эту зависимость для k = {20, 50, 100, 200, 500}  \n",
    "C)* Исходя из прошлого вопроса, как вы думаете, какое значение k является наиболее разумным?\n"
   ]
  },
  {
   "cell_type": "code",
   "execution_count": 80,
   "id": "b9be203a",
   "metadata": {},
   "outputs": [],
   "source": [
    "# result_eval_matcher.to_csv('../Data/result_eval_matcher.csv')\n",
    "# data_train_matcher.to_csv('../Data/data_train_matcher.csv')"
   ]
  },
  {
   "cell_type": "code",
   "execution_count": 81,
   "id": "c9b01476",
   "metadata": {},
   "outputs": [],
   "source": [
    "import swifter\n",
    "\n",
    "\n",
    "def fit_first_level_model(recommender: MainRecommender, \n",
    "                          user_id_df: pd.DataFrame, \n",
    "                          user_column_name: str,\n",
    "                          n_predicts: int, \n",
    "                          model_name: str):\n",
    "    \"\"\"\n",
    "    Return fitted model, witch name is getted in `model_name` parametr. \n",
    "    `model_name` can to get one of this values - ['own_rec', 'sim_item_rec', 'als_rec', 'sim_user_rec_var_1', 'sim_user_rec_var_2']\n",
    "    If model_name is None, it will calculate total tables with all avoid values\n",
    "    \"\"\"\n",
    "    \n",
    "    if not model_name:\n",
    "        # для понятности расписано все в строчку, без функций, ваша задача уметь оборачивать все это в функции\n",
    "        user_id_df['own_rec'] = user_id_df[user_column_name].swifter.apply(lambda x: recommender.get_own_recommendations(x, N=n_predicts))\n",
    "        user_id_df['sim_item_rec'] = user_id_df[user_column_name].swifter.apply(lambda x: recommender.get_similar_items_recommendation(x, n=n_predicts))\n",
    "        user_id_df['als_rec'] = user_id_df[user_column_name].swifter.apply(lambda x: recommender.get_als_recommendations(x, N=n_predicts))\n",
    "\n",
    "        user_id_df['sim_user_rec_var_1'] = user_id_df[user_column_name].swifter.apply(\n",
    "            lambda x: recommender.get_similar_users_recommendation(x, N=n_predicts, option=1)\n",
    "        )\n",
    "\n",
    "        user_id_df['sim_user_rec_var_2'] = user_id_df[user_column_name].swifter.apply(\n",
    "            lambda x: recommender.get_similar_users_recommendation(x, N=n_predicts, option=2)\n",
    "        )\n",
    "        \n",
    "        return user_id_df\n",
    "    \n",
    "    if model_name == 'sim_user_rec_var_2':\n",
    "        return user_id_df[user_column_name].swifter.apply(\n",
    "            lambda x: recommender.get_similar_users_recommendation(x, N=n_predicts, option=2)\n",
    "        )\n",
    "    \n",
    "    if model_name == 'sim_user_rec_var_1':\n",
    "        return user_id_df[user_column_name].swifter.apply(\n",
    "            lambda x: recommender.get_similar_users_recommendation(x, N=n_predicts, option=1)\n",
    "        )\n",
    "    \n",
    "    \n",
    "    if model_name == 'own_rec':\n",
    "        return user_id_df[user_column_name].swifter.apply(lambda x: recommender.own_recommender(x, N=n_predicts))\n",
    "    \n",
    "    if model_name == 'sim_item_rec':\n",
    "        return user_id_df[user_column_name].swifter.apply(lambda x: recommender.get_similar_items_recommendation(x, N=n_predicts))\n",
    "    \n",
    "    if model_name == 'als_rec':\n",
    "        return user_id_df[user_column_name].swifter.apply(lambda x: recommender.get_als_recommendations(x, N=n_predicts))\n",
    "    \n",
    "    \n",
    "\n",
    "\n"
   ]
  },
  {
   "cell_type": "code",
   "execution_count": 82,
   "id": "ba7e1071",
   "metadata": {},
   "outputs": [
    {
     "data": {
      "text/html": [
       "<div>\n",
       "<style scoped>\n",
       "    .dataframe tbody tr th:only-of-type {\n",
       "        vertical-align: middle;\n",
       "    }\n",
       "\n",
       "    .dataframe tbody tr th {\n",
       "        vertical-align: top;\n",
       "    }\n",
       "\n",
       "    .dataframe thead th {\n",
       "        text-align: right;\n",
       "    }\n",
       "</style>\n",
       "<table border=\"1\" class=\"dataframe\">\n",
       "  <thead>\n",
       "    <tr style=\"text-align: right;\">\n",
       "      <th></th>\n",
       "      <th>user_id</th>\n",
       "      <th>actual</th>\n",
       "    </tr>\n",
       "  </thead>\n",
       "  <tbody>\n",
       "    <tr>\n",
       "      <th>0</th>\n",
       "      <td>1</td>\n",
       "      <td>[853529, 865456, 867607, 872137, 874905, 87524...</td>\n",
       "    </tr>\n",
       "    <tr>\n",
       "      <th>1</th>\n",
       "      <td>6</td>\n",
       "      <td>[1024306, 1102949, 6548453, 835394, 940804, 96...</td>\n",
       "    </tr>\n",
       "  </tbody>\n",
       "</table>\n",
       "</div>"
      ],
      "text/plain": [
       "   user_id                                             actual\n",
       "0        1  [853529, 865456, 867607, 872137, 874905, 87524...\n",
       "1        6  [1024306, 1102949, 6548453, 835394, 940804, 96..."
      ]
     },
     "execution_count": 82,
     "metadata": {},
     "output_type": "execute_result"
    }
   ],
   "source": [
    "ACTUAL_COL = 'actual'\n",
    "\n",
    "def get_validation_data_frame(data_val):\n",
    "    result_eval_matcher = data_val.groupby(USER_COL)[ITEM_COL].unique().reset_index()\n",
    "    result_eval_matcher.columns=[USER_COL, ACTUAL_COL]\n",
    "    return result_eval_matcher\n",
    "    \n",
    "    \n",
    "get_validation_data_frame(data_val_matcher).head(2)\n",
    "\n"
   ]
  },
  {
   "cell_type": "markdown",
   "id": "a8d97d39",
   "metadata": {},
   "source": [
    "### A) Попробуйте различные варианты генерации кандидатов. Какие из них дают наибольший recall@k ?\n",
    "- Пока пробуем отобрать 50 кандидатов (k=50)\n",
    "- Качество измеряем на data_val_matcher: следующие 6 недель после трейна\n",
    "\n",
    "Дают ли own recommendtions + top-popular лучший recall?  "
   ]
  },
  {
   "cell_type": "code",
   "execution_count": 83,
   "id": "e8bd4ed1",
   "metadata": {},
   "outputs": [
    {
     "data": {
      "application/vnd.jupyter.widget-view+json": {
       "model_id": "fe174c7b09e24075b0b71f4294fdeedb",
       "version_major": 2,
       "version_minor": 0
      },
      "text/plain": [
       "Pandas Apply:   0%|          | 0/2 [00:00<?, ?it/s]"
      ]
     },
     "metadata": {},
     "output_type": "display_data"
    },
    {
     "data": {
      "application/vnd.jupyter.widget-view+json": {
       "model_id": "275aded2c72f4b71a46a68bf89406b09",
       "version_major": 2,
       "version_minor": 0
      },
      "text/plain": [
       "Pandas Apply:   0%|          | 0/2 [00:00<?, ?it/s]"
      ]
     },
     "metadata": {},
     "output_type": "display_data"
    },
    {
     "data": {
      "application/vnd.jupyter.widget-view+json": {
       "model_id": "dea380de822640839d780668b73e2cd4",
       "version_major": 2,
       "version_minor": 0
      },
      "text/plain": [
       "Pandas Apply:   0%|          | 0/2 [00:00<?, ?it/s]"
      ]
     },
     "metadata": {},
     "output_type": "display_data"
    },
    {
     "data": {
      "application/vnd.jupyter.widget-view+json": {
       "model_id": "46a5ef4d36c64102a817a880d457280c",
       "version_major": 2,
       "version_minor": 0
      },
      "text/plain": [
       "Pandas Apply:   0%|          | 0/2 [00:00<?, ?it/s]"
      ]
     },
     "metadata": {},
     "output_type": "display_data"
    },
    {
     "data": {
      "application/vnd.jupyter.widget-view+json": {
       "model_id": "82a3a51a37b8430d933df1dc06220a2e",
       "version_major": 2,
       "version_minor": 0
      },
      "text/plain": [
       "Pandas Apply:   0%|          | 0/2 [00:00<?, ?it/s]"
      ]
     },
     "metadata": {},
     "output_type": "display_data"
    }
   ],
   "source": [
    "N_PREDICT = 50 \n",
    "\n",
    "result_eval_matcher = get_validation_data_frame(data_val_matcher).head(2)\n",
    "\n",
    "fit_first_level_model(\n",
    "    recommender=recommender,\n",
    "    user_id_df=result_eval_matcher,\n",
    "    user_column_name=USER_COL,\n",
    "    n_predicts=N_PREDICT,\n",
    "    model_name=None\n",
    ")\n",
    "\n",
    "send_tg_message('Calc is done')"
   ]
  },
  {
   "cell_type": "code",
   "execution_count": 84,
   "id": "2c92111f",
   "metadata": {},
   "outputs": [
    {
     "data": {
      "text/html": [
       "<div>\n",
       "<style scoped>\n",
       "    .dataframe tbody tr th:only-of-type {\n",
       "        vertical-align: middle;\n",
       "    }\n",
       "\n",
       "    .dataframe tbody tr th {\n",
       "        vertical-align: top;\n",
       "    }\n",
       "\n",
       "    .dataframe thead th {\n",
       "        text-align: right;\n",
       "    }\n",
       "</style>\n",
       "<table border=\"1\" class=\"dataframe\">\n",
       "  <thead>\n",
       "    <tr style=\"text-align: right;\">\n",
       "      <th></th>\n",
       "      <th>user_id</th>\n",
       "      <th>actual</th>\n",
       "      <th>own_rec</th>\n",
       "      <th>sim_item_rec</th>\n",
       "      <th>als_rec</th>\n",
       "      <th>sim_user_rec_var_1</th>\n",
       "      <th>sim_user_rec_var_2</th>\n",
       "    </tr>\n",
       "  </thead>\n",
       "  <tbody>\n",
       "    <tr>\n",
       "      <th>0</th>\n",
       "      <td>1</td>\n",
       "      <td>[853529, 865456, 867607, 872137, 874905, 87524...</td>\n",
       "      <td>[856942, 9297615, 5577022, 9655212, 8293439, 1...</td>\n",
       "      <td>[1035805, 8119097, 9526410, 1007512, 9297615, ...</td>\n",
       "      <td>[9296957, 1082212, 885290, 918907, 958046, 856...</td>\n",
       "      <td>[962229, 898847, 995242, 1070820, 1070015, 112...</td>\n",
       "      <td>[962229, 862349, 1070820, 1092937, 995242, 983...</td>\n",
       "    </tr>\n",
       "    <tr>\n",
       "      <th>1</th>\n",
       "      <td>6</td>\n",
       "      <td>[1024306, 1102949, 6548453, 835394, 940804, 96...</td>\n",
       "      <td>[13003092, 1041259, 995598, 1084036, 5569792, ...</td>\n",
       "      <td>[866211, 825541, 904360, 948650, 845208, 70252...</td>\n",
       "      <td>[1082185, 1024306, 878996, 857006, 854852, 105...</td>\n",
       "      <td>[1127831, 945652, 5569230, 1026118, 1041796, 1...</td>\n",
       "      <td>[1127831, 8090440, 1024306, 1082185, 1106523, ...</td>\n",
       "    </tr>\n",
       "  </tbody>\n",
       "</table>\n",
       "</div>"
      ],
      "text/plain": [
       "   user_id                                             actual  \\\n",
       "0        1  [853529, 865456, 867607, 872137, 874905, 87524...   \n",
       "1        6  [1024306, 1102949, 6548453, 835394, 940804, 96...   \n",
       "\n",
       "                                             own_rec  \\\n",
       "0  [856942, 9297615, 5577022, 9655212, 8293439, 1...   \n",
       "1  [13003092, 1041259, 995598, 1084036, 5569792, ...   \n",
       "\n",
       "                                        sim_item_rec  \\\n",
       "0  [1035805, 8119097, 9526410, 1007512, 9297615, ...   \n",
       "1  [866211, 825541, 904360, 948650, 845208, 70252...   \n",
       "\n",
       "                                             als_rec  \\\n",
       "0  [9296957, 1082212, 885290, 918907, 958046, 856...   \n",
       "1  [1082185, 1024306, 878996, 857006, 854852, 105...   \n",
       "\n",
       "                                  sim_user_rec_var_1  \\\n",
       "0  [962229, 898847, 995242, 1070820, 1070015, 112...   \n",
       "1  [1127831, 945652, 5569230, 1026118, 1041796, 1...   \n",
       "\n",
       "                                  sim_user_rec_var_2  \n",
       "0  [962229, 862349, 1070820, 1092937, 995242, 983...  \n",
       "1  [1127831, 8090440, 1024306, 1082185, 1106523, ...  "
      ]
     },
     "execution_count": 84,
     "metadata": {},
     "output_type": "execute_result"
    }
   ],
   "source": [
    "result_eval_matcher.head(2)"
   ]
  },
  {
   "cell_type": "code",
   "execution_count": 85,
   "id": "9a67f159",
   "metadata": {},
   "outputs": [],
   "source": [
    "def calc_recall(df_data, top_k):\n",
    "    for col_name in df_data.columns[2:]:\n",
    "        yield col_name, df_data.apply(lambda row: recall_at_k(row[col_name], row[ACTUAL_COL], k=top_k), axis=1).mean()"
   ]
  },
  {
   "cell_type": "code",
   "execution_count": 86,
   "id": "a7ab2abd",
   "metadata": {},
   "outputs": [
    {
     "data": {
      "text/plain": [
       "[('own_rec', 0.11136917895714785),\n",
       " ('als_rec', 0.10567878295203809),\n",
       " ('sim_item_rec', 0.09650447102543258),\n",
       " ('sim_user_rec_var_1', 0.04366507954941354),\n",
       " ('sim_user_rec_var_2', 0.04081988154685867)]"
      ]
     },
     "execution_count": 86,
     "metadata": {},
     "output_type": "execute_result"
    }
   ],
   "source": [
    "sorted(calc_recall(result_eval_matcher, N_PREDICT), key=lambda x: x[1],reverse=True)"
   ]
  },
  {
   "cell_type": "markdown",
   "id": "6b5d6e7a",
   "metadata": {},
   "source": [
    "Из данных приведенных выше видно, что наибольшее значение recall получили модель own_rec"
   ]
  },
  {
   "cell_type": "markdown",
   "id": "5e735d90",
   "metadata": {},
   "source": [
    "### Как зависит recall@k от k? Постройте для одной схемы генерации кандидатов эту зависимость для k = {20, 50, 100, 200, 500}"
   ]
  },
  {
   "cell_type": "code",
   "execution_count": 87,
   "id": "09437903",
   "metadata": {},
   "outputs": [
    {
     "data": {
      "application/vnd.jupyter.widget-view+json": {
       "model_id": "3b38b1518e274d6c8c1c28e4241c059f",
       "version_major": 2,
       "version_minor": 0
      },
      "text/plain": [
       "Dask Apply:   0%|          | 0/16 [00:00<?, ?it/s]"
      ]
     },
     "metadata": {},
     "output_type": "display_data"
    },
    {
     "data": {
      "text/html": [
       "<div>\n",
       "<style scoped>\n",
       "    .dataframe tbody tr th:only-of-type {\n",
       "        vertical-align: middle;\n",
       "    }\n",
       "\n",
       "    .dataframe tbody tr th {\n",
       "        vertical-align: top;\n",
       "    }\n",
       "\n",
       "    .dataframe thead th {\n",
       "        text-align: right;\n",
       "    }\n",
       "</style>\n",
       "<table border=\"1\" class=\"dataframe\">\n",
       "  <thead>\n",
       "    <tr style=\"text-align: right;\">\n",
       "      <th></th>\n",
       "      <th>user_id</th>\n",
       "      <th>actual</th>\n",
       "      <th>als_rec</th>\n",
       "    </tr>\n",
       "  </thead>\n",
       "  <tbody>\n",
       "    <tr>\n",
       "      <th>0</th>\n",
       "      <td>1</td>\n",
       "      <td>[853529, 865456, 867607, 872137, 874905, 87524...</td>\n",
       "      <td>[9296957, 1082212, 885290, 918907, 958046, 856...</td>\n",
       "    </tr>\n",
       "    <tr>\n",
       "      <th>1</th>\n",
       "      <td>6</td>\n",
       "      <td>[1024306, 1102949, 6548453, 835394, 940804, 96...</td>\n",
       "      <td>[1082185, 1024306, 878996, 857006, 854852, 105...</td>\n",
       "    </tr>\n",
       "  </tbody>\n",
       "</table>\n",
       "</div>"
      ],
      "text/plain": [
       "   user_id                                             actual  \\\n",
       "0        1  [853529, 865456, 867607, 872137, 874905, 87524...   \n",
       "1        6  [1024306, 1102949, 6548453, 835394, 940804, 96...   \n",
       "\n",
       "                                             als_rec  \n",
       "0  [9296957, 1082212, 885290, 918907, 958046, 856...  \n",
       "1  [1082185, 1024306, 878996, 857006, 854852, 105...  "
      ]
     },
     "execution_count": 87,
     "metadata": {},
     "output_type": "execute_result"
    }
   ],
   "source": [
    "n_predicts = [20, 50, 100, 200, 500]\n",
    "selected_model_name = 'als_rec'   # выбираем наибольший recall, за исключением own, т.к рекомендации такого рода бесполезны\n",
    "result_eval_matcher = get_validation_data_frame(data_val_matcher)\n",
    "\n",
    "result_eval_matcher[selected_model_name] = fit_first_level_model(\n",
    "    recommender=recommender,\n",
    "    user_id_df=result_eval_matcher,\n",
    "    user_column_name=USER_COL,\n",
    "    n_predicts=n_predicts[-1],\n",
    "    model_name=selected_model_name,\n",
    ")\n",
    "\n",
    "result_eval_matcher.head(2)"
   ]
  },
  {
   "cell_type": "code",
   "execution_count": 88,
   "id": "e6206827",
   "metadata": {},
   "outputs": [
    {
     "data": {
      "text/plain": [
       "[0.03997, 0.07035, 0.10494, 0.15294, 0.23431]"
      ]
     },
     "execution_count": 88,
     "metadata": {},
     "output_type": "execute_result"
    }
   ],
   "source": [
    "recall_at_list = [round(list(calc_recall(result_eval_matcher, n_predict))[0][1], 5) for n_predict in n_predicts]\n",
    "recall_at_list"
   ]
  },
  {
   "cell_type": "code",
   "execution_count": 89,
   "id": "274c14ed",
   "metadata": {},
   "outputs": [
    {
     "data": {
      "image/png": "[encoded data removed]",
      "text/plain": [
       "<Figure size 1152x648 with 1 Axes>"
      ]
     },
     "metadata": {
      "needs_background": "light"
     },
     "output_type": "display_data"
    }
   ],
   "source": [
    "plt.figure(figsize=(16, 9))\n",
    "plt.plot(n_predicts, recall_at_list, c='orange')\n",
    "plt.scatter(n_predicts, recall_at_list, c='green')\n",
    "\n",
    "[plt.text(n_predicts[i] + 2, recall_at_list[i] + .0005, txt, fontsize=9) for i, txt in enumerate(recall_at_list)]\n",
    "\n",
    "plt.grid()\n",
    "\n",
    "plt.xlabel('Count of recommends')\n",
    "plt.ylabel('recall')\n",
    "plt.show()"
   ]
  },
  {
   "cell_type": "markdown",
   "id": "c3e493c0",
   "metadata": {},
   "source": [
    "Видно, что зависимость логарифмическая"
   ]
  },
  {
   "cell_type": "markdown",
   "id": "85811f58",
   "metadata": {},
   "source": [
    "### C)* Исходя из прошлого вопроса, как вы думаете, какое значение k является наиболее разумным?"
   ]
  },
  {
   "cell_type": "markdown",
   "id": "b724edc3",
   "metadata": {},
   "source": [
    "Из графика выше видно, что чем больше число рекомендаций, тем выше recall. Баланс между скоростью алгоритма, числом рекомендаций и производительностью оборудования которое нам доступно, является определяющим фактором для выбора числа рекомендаций. "
   ]
  },
  {
   "cell_type": "markdown",
   "id": "1f97086b",
   "metadata": {},
   "source": [
    "**Задание 2.**\n",
    "\n",
    "Обучите модель 2-ого уровня, при этом:\n",
    "\n",
    "- Добавьте минимум по 2 фичи для юзера, товара и пары юзер-товар\n",
    "\n",
    "- Измерьте отдельно precision@5 модели 1-ого уровня и двухуровневой модели на data_val_ranker\n",
    "\n",
    "- Вырос ли precision@5 при использовании двухуровневой модели?"
   ]
  },
  {
   "cell_type": "markdown",
   "id": "1a4650d6",
   "metadata": {},
   "source": [
    "Подготовка данных для трейна"
   ]
  },
  {
   "cell_type": "code",
   "execution_count": 93,
   "id": "88bd4c42",
   "metadata": {},
   "outputs": [
    {
     "data": {
      "text/html": [
       "<div>\n",
       "<style scoped>\n",
       "    .dataframe tbody tr th:only-of-type {\n",
       "        vertical-align: middle;\n",
       "    }\n",
       "\n",
       "    .dataframe tbody tr th {\n",
       "        vertical-align: top;\n",
       "    }\n",
       "\n",
       "    .dataframe thead th {\n",
       "        text-align: right;\n",
       "    }\n",
       "</style>\n",
       "<table border=\"1\" class=\"dataframe\">\n",
       "  <thead>\n",
       "    <tr style=\"text-align: right;\">\n",
       "      <th></th>\n",
       "      <th>user_id</th>\n",
       "    </tr>\n",
       "  </thead>\n",
       "  <tbody>\n",
       "    <tr>\n",
       "      <th>0</th>\n",
       "      <td>2070</td>\n",
       "    </tr>\n",
       "    <tr>\n",
       "      <th>1</th>\n",
       "      <td>2021</td>\n",
       "    </tr>\n",
       "    <tr>\n",
       "      <th>2</th>\n",
       "      <td>1753</td>\n",
       "    </tr>\n",
       "    <tr>\n",
       "      <th>3</th>\n",
       "      <td>1346</td>\n",
       "    </tr>\n",
       "    <tr>\n",
       "      <th>4</th>\n",
       "      <td>2324</td>\n",
       "    </tr>\n",
       "    <tr>\n",
       "      <th>...</th>\n",
       "      <td>...</td>\n",
       "    </tr>\n",
       "    <tr>\n",
       "      <th>1899</th>\n",
       "      <td>1446</td>\n",
       "    </tr>\n",
       "    <tr>\n",
       "      <th>1900</th>\n",
       "      <td>1784</td>\n",
       "    </tr>\n",
       "    <tr>\n",
       "      <th>1901</th>\n",
       "      <td>436</td>\n",
       "    </tr>\n",
       "    <tr>\n",
       "      <th>1902</th>\n",
       "      <td>1697</td>\n",
       "    </tr>\n",
       "    <tr>\n",
       "      <th>1903</th>\n",
       "      <td>1745</td>\n",
       "    </tr>\n",
       "  </tbody>\n",
       "</table>\n",
       "<p>1904 rows × 1 columns</p>\n",
       "</div>"
      ],
      "text/plain": [
       "      user_id\n",
       "0        2070\n",
       "1        2021\n",
       "2        1753\n",
       "3        1346\n",
       "4        2324\n",
       "...       ...\n",
       "1899     1446\n",
       "1900     1784\n",
       "1901      436\n",
       "1902     1697\n",
       "1903     1745\n",
       "\n",
       "[1904 rows x 1 columns]"
      ]
     },
     "execution_count": 93,
     "metadata": {},
     "output_type": "execute_result"
    }
   ],
   "source": [
    "# взяли пользователей из трейна для ранжирования\n",
    "df_match_candidates = pd.DataFrame(data_train_ranker[USER_COL].unique())\n",
    "df_match_candidates.columns = [USER_COL]\n",
    "df_match_candidates"
   ]
  },
  {
   "cell_type": "code",
   "execution_count": 94,
   "id": "c18820e5",
   "metadata": {
    "scrolled": false
   },
   "outputs": [
    {
     "data": {
      "text/html": [
       "<div>\n",
       "<style scoped>\n",
       "    .dataframe tbody tr th:only-of-type {\n",
       "        vertical-align: middle;\n",
       "    }\n",
       "\n",
       "    .dataframe tbody tr th {\n",
       "        vertical-align: top;\n",
       "    }\n",
       "\n",
       "    .dataframe thead th {\n",
       "        text-align: right;\n",
       "    }\n",
       "</style>\n",
       "<table border=\"1\" class=\"dataframe\">\n",
       "  <thead>\n",
       "    <tr style=\"text-align: right;\">\n",
       "      <th></th>\n",
       "      <th>user_id</th>\n",
       "      <th>candidates</th>\n",
       "    </tr>\n",
       "  </thead>\n",
       "  <tbody>\n",
       "    <tr>\n",
       "      <th>0</th>\n",
       "      <td>2070</td>\n",
       "      <td>[1085604, 1107553, 1082185, 908531, 1029743, 8...</td>\n",
       "    </tr>\n",
       "    <tr>\n",
       "      <th>1</th>\n",
       "      <td>2021</td>\n",
       "      <td>[12731544, 951590, 1009333, 846823, 981760, 10...</td>\n",
       "    </tr>\n",
       "  </tbody>\n",
       "</table>\n",
       "</div>"
      ],
      "text/plain": [
       "   user_id                                         candidates\n",
       "0     2070  [1085604, 1107553, 1082185, 908531, 1029743, 8...\n",
       "1     2021  [12731544, 951590, 1009333, 846823, 981760, 10..."
      ]
     },
     "execution_count": 94,
     "metadata": {},
     "output_type": "execute_result"
    }
   ],
   "source": [
    "# собираем кандитатов с первого этапа (matcher)\n",
    "N_PREDICT=200\n",
    "\n",
    "df_match_candidates['candidates'] = df_match_candidates[USER_COL].apply(lambda x: recommender.get_als_recommendations(x, N=N_PREDICT))\n",
    "df_match_candidates.head(2)"
   ]
  },
  {
   "cell_type": "code",
   "execution_count": 95,
   "id": "80daebef",
   "metadata": {
    "scrolled": false
   },
   "outputs": [
    {
     "data": {
      "text/html": [
       "<div>\n",
       "<style scoped>\n",
       "    .dataframe tbody tr th:only-of-type {\n",
       "        vertical-align: middle;\n",
       "    }\n",
       "\n",
       "    .dataframe tbody tr th {\n",
       "        vertical-align: top;\n",
       "    }\n",
       "\n",
       "    .dataframe thead th {\n",
       "        text-align: right;\n",
       "    }\n",
       "</style>\n",
       "<table border=\"1\" class=\"dataframe\">\n",
       "  <thead>\n",
       "    <tr style=\"text-align: right;\">\n",
       "      <th></th>\n",
       "      <th>user_id</th>\n",
       "      <th>item_id</th>\n",
       "    </tr>\n",
       "  </thead>\n",
       "  <tbody>\n",
       "    <tr>\n",
       "      <th>0</th>\n",
       "      <td>2070</td>\n",
       "      <td>1085604</td>\n",
       "    </tr>\n",
       "    <tr>\n",
       "      <th>0</th>\n",
       "      <td>2070</td>\n",
       "      <td>1107553</td>\n",
       "    </tr>\n",
       "    <tr>\n",
       "      <th>0</th>\n",
       "      <td>2070</td>\n",
       "      <td>1082185</td>\n",
       "    </tr>\n",
       "    <tr>\n",
       "      <th>0</th>\n",
       "      <td>2070</td>\n",
       "      <td>908531</td>\n",
       "    </tr>\n",
       "    <tr>\n",
       "      <th>0</th>\n",
       "      <td>2070</td>\n",
       "      <td>1029743</td>\n",
       "    </tr>\n",
       "    <tr>\n",
       "      <th>0</th>\n",
       "      <td>2070</td>\n",
       "      <td>879755</td>\n",
       "    </tr>\n",
       "    <tr>\n",
       "      <th>0</th>\n",
       "      <td>2070</td>\n",
       "      <td>834103</td>\n",
       "    </tr>\n",
       "    <tr>\n",
       "      <th>0</th>\n",
       "      <td>2070</td>\n",
       "      <td>9526410</td>\n",
       "    </tr>\n",
       "  </tbody>\n",
       "</table>\n",
       "</div>"
      ],
      "text/plain": [
       "   user_id  item_id\n",
       "0     2070  1085604\n",
       "0     2070  1107553\n",
       "0     2070  1082185\n",
       "0     2070   908531\n",
       "0     2070  1029743\n",
       "0     2070   879755\n",
       "0     2070   834103\n",
       "0     2070  9526410"
      ]
     },
     "execution_count": 95,
     "metadata": {},
     "output_type": "execute_result"
    }
   ],
   "source": [
    "df_items = df_match_candidates.apply(lambda x: pd.Series(x['candidates']), axis=1).stack().reset_index(level=1, drop=True)\n",
    "df_items.name = 'item_id'\n",
    "\n",
    "df_match_candidates = df_match_candidates.drop('candidates', axis=1).join(df_items)\n",
    "df_match_candidates.head(8)"
   ]
  },
  {
   "cell_type": "markdown",
   "id": "9fa641ab",
   "metadata": {},
   "source": [
    "### Создаем трейн сет для ранжирования с учетом кандидатов с этапа 1"
   ]
  },
  {
   "cell_type": "code",
   "execution_count": 96,
   "id": "69b34c51",
   "metadata": {},
   "outputs": [],
   "source": [
    "df_ranker_train = data_train_ranker[[USER_COL, ITEM_COL]].copy()\n",
    "df_ranker_train['target'] = 1  # тут только покупки \n",
    "\n",
    "df_ranker_train = df_match_candidates.merge(df_ranker_train, on=[USER_COL, ITEM_COL], how='left')\n",
    "\n",
    "df_ranker_train['target'].fillna(0, inplace= True)"
   ]
  },
  {
   "cell_type": "code",
   "execution_count": 97,
   "id": "eee8c02b",
   "metadata": {},
   "outputs": [
    {
     "data": {
      "text/html": [
       "<div>\n",
       "<style scoped>\n",
       "    .dataframe tbody tr th:only-of-type {\n",
       "        vertical-align: middle;\n",
       "    }\n",
       "\n",
       "    .dataframe tbody tr th {\n",
       "        vertical-align: top;\n",
       "    }\n",
       "\n",
       "    .dataframe thead th {\n",
       "        text-align: right;\n",
       "    }\n",
       "</style>\n",
       "<table border=\"1\" class=\"dataframe\">\n",
       "  <thead>\n",
       "    <tr style=\"text-align: right;\">\n",
       "      <th></th>\n",
       "      <th>user_id</th>\n",
       "      <th>item_id</th>\n",
       "      <th>target</th>\n",
       "    </tr>\n",
       "  </thead>\n",
       "  <tbody>\n",
       "    <tr>\n",
       "      <th>0</th>\n",
       "      <td>2070</td>\n",
       "      <td>1085604</td>\n",
       "      <td>1.0</td>\n",
       "    </tr>\n",
       "    <tr>\n",
       "      <th>1</th>\n",
       "      <td>2070</td>\n",
       "      <td>1107553</td>\n",
       "      <td>0.0</td>\n",
       "    </tr>\n",
       "    <tr>\n",
       "      <th>2</th>\n",
       "      <td>2070</td>\n",
       "      <td>1082185</td>\n",
       "      <td>1.0</td>\n",
       "    </tr>\n",
       "    <tr>\n",
       "      <th>3</th>\n",
       "      <td>2070</td>\n",
       "      <td>908531</td>\n",
       "      <td>1.0</td>\n",
       "    </tr>\n",
       "    <tr>\n",
       "      <th>4</th>\n",
       "      <td>2070</td>\n",
       "      <td>1029743</td>\n",
       "      <td>0.0</td>\n",
       "    </tr>\n",
       "    <tr>\n",
       "      <th>...</th>\n",
       "      <td>...</td>\n",
       "      <td>...</td>\n",
       "      <td>...</td>\n",
       "    </tr>\n",
       "    <tr>\n",
       "      <th>390161</th>\n",
       "      <td>1745</td>\n",
       "      <td>1063707</td>\n",
       "      <td>0.0</td>\n",
       "    </tr>\n",
       "    <tr>\n",
       "      <th>390162</th>\n",
       "      <td>1745</td>\n",
       "      <td>1099905</td>\n",
       "      <td>0.0</td>\n",
       "    </tr>\n",
       "    <tr>\n",
       "      <th>390163</th>\n",
       "      <td>1745</td>\n",
       "      <td>5563934</td>\n",
       "      <td>0.0</td>\n",
       "    </tr>\n",
       "    <tr>\n",
       "      <th>390164</th>\n",
       "      <td>1745</td>\n",
       "      <td>899844</td>\n",
       "      <td>0.0</td>\n",
       "    </tr>\n",
       "    <tr>\n",
       "      <th>390165</th>\n",
       "      <td>1745</td>\n",
       "      <td>896862</td>\n",
       "      <td>0.0</td>\n",
       "    </tr>\n",
       "  </tbody>\n",
       "</table>\n",
       "<p>390166 rows × 3 columns</p>\n",
       "</div>"
      ],
      "text/plain": [
       "        user_id  item_id  target\n",
       "0          2070  1085604     1.0\n",
       "1          2070  1107553     0.0\n",
       "2          2070  1082185     1.0\n",
       "3          2070   908531     1.0\n",
       "4          2070  1029743     0.0\n",
       "...         ...      ...     ...\n",
       "390161     1745  1063707     0.0\n",
       "390162     1745  1099905     0.0\n",
       "390163     1745  5563934     0.0\n",
       "390164     1745   899844     0.0\n",
       "390165     1745   896862     0.0\n",
       "\n",
       "[390166 rows x 3 columns]"
      ]
     },
     "execution_count": 97,
     "metadata": {},
     "output_type": "execute_result"
    }
   ],
   "source": [
    "df_ranker_train"
   ]
  },
  {
   "cell_type": "markdown",
   "id": "7573f08b",
   "metadata": {},
   "source": [
    "## Подготавливаем фичи для обучения модели"
   ]
  },
  {
   "cell_type": "markdown",
   "id": "c33edd1f",
   "metadata": {},
   "source": [
    "***A) Добавьте минимум по 2 фичи для юзера, товара и пары юзер-товар***"
   ]
  },
  {
   "cell_type": "markdown",
   "id": "7f00cf78",
   "metadata": {},
   "source": [
    "**Фичи user_id:**\n",
    "   - Средний чек\n",
    "   - Средняя сумма покупки 1 товара в каждой категории\n",
    "   - Кол-во покупок в каждой категории\n",
    "   - Частотность покупок раз/месяц\n",
    "   - Долю покупок в выходные\n",
    "   - Долю покупок утром/днем/вечером\n",
    "\n",
    "**Фичи item_id**:\n",
    "   - Кол-во покупок в неделю (как часто покупают этот товар)\n",
    "   - Среднее ол-во покупок 1 товара в категории в неделю (насколько востребована категория)\n",
    "   - (Кол-во покупок в неделю) / (Среднее ол-во покупок 1 товара в категории в неделю) - процент востребованости этого товара в данной категории\n",
    "   - Цена (Можно посчитать из retil_train.csv)\n",
    "   - Цена / Средняя цена товара в категории\n",
    "    \n",
    "**Фичи пары user_id - item_id**\n",
    "   - (Средняя сумма покупки 1 товара в каждой категории (берем категорию item_id)) - (Цена item_id)\n",
    "   - (Кол-во покупок юзером конкретной категории в неделю) - (Среднее кол-во покупок всеми юзерами конкретной категории в неделю)\n",
    "   - (Кол-во покупок юзером конкретной категории в неделю) / (Среднее кол-во покупок всеми юзерами конкретной категории в неделю)"
   ]
  },
  {
   "cell_type": "code",
   "execution_count": 98,
   "id": "e85ec02a",
   "metadata": {},
   "outputs": [],
   "source": [
    "sv_user_features = user_features.copy()\n",
    "sv_item_features = item_features.copy()"
   ]
  },
  {
   "cell_type": "code",
   "execution_count": 99,
   "id": "a2640553",
   "metadata": {},
   "outputs": [],
   "source": [
    "from feature_generation import *\n",
    "\n",
    "\n",
    "additional_user_features = make_pipeline(\n",
    "    AddPriceColumn(),\n",
    "    AverageCheck(),\n",
    "    AveragePriceCounItemADepartment(items_department=item_features[['item_id', 'department']]),\n",
    "    PurchasesAMonth(),\n",
    "    DropColumn(column_name='price'),\n",
    "    UpdateFeaturesTable(feature_table=user_features,\n",
    "                        X_old_columns_names=data_train_ranker.columns,\n",
    "                        merge_on=['user_id'])\n",
    ")\n",
    "\n",
    "user_features = additional_user_features.fit_transform(data_train_ranker)\n",
    "\n",
    "additional_items_features = make_pipeline(\n",
    "    AddPriceColumn(),\n",
    "    PurchasesCountAWeek(),\n",
    "    AveragePurchasesCountADepartment(item_department_table=item_features[['item_id', 'department']]),\n",
    "    LikePercentADepartment(),\n",
    "    HigherThenMedianPricePercent(),\n",
    "    UpdateFeaturesTable(feature_table=item_features,\n",
    "                        X_old_columns_names=data_train_ranker.columns,\n",
    "                        merge_on='item_id')\n",
    ")\n",
    "\n",
    "item_features = additional_items_features.fit_transform(X=data_train_ranker)"
   ]
  },
  {
   "cell_type": "code",
   "execution_count": 102,
   "id": "5ecb0d9a",
   "metadata": {},
   "outputs": [
    {
     "data": {
      "text/plain": [
       "item_id                               int64\n",
       "manufacturer                          int64\n",
       "department                           object\n",
       "brand                                object\n",
       "commodity_desc                       object\n",
       "sub_commodity_desc                   object\n",
       "curr_size_of_product                 object\n",
       "avg_price_a_department              float64\n",
       "higher_then_median_price_percent    float64\n",
       "popular_items_a_week                float64\n",
       "like_percent_a_department           float64\n",
       "popular_department                  float64\n",
       "avg_quantity_week                   float64\n",
       "dtype: object"
      ]
     },
     "execution_count": 102,
     "metadata": {},
     "output_type": "execute_result"
    }
   ],
   "source": [
    "item_features.dtypes"
   ]
  },
  {
   "cell_type": "code",
   "execution_count": 103,
   "id": "23c23b0a",
   "metadata": {},
   "outputs": [],
   "source": [
    "df_ranker_train = df_ranker_train.merge(item_features, on='item_id', how='left')\n",
    "df_ranker_train = df_ranker_train.merge(user_features, on='user_id', how='left')"
   ]
  },
  {
   "cell_type": "code",
   "execution_count": 106,
   "id": "d2af30b1",
   "metadata": {},
   "outputs": [],
   "source": [
    "X_train = df_ranker_train.drop('target', axis=1)\n",
    "y_train = df_ranker_train[['target']]"
   ]
  },
  {
   "cell_type": "code",
   "execution_count": 109,
   "id": "af5305dd",
   "metadata": {},
   "outputs": [],
   "source": [
    "# from utils import reduce_mem_usage\n",
    "\n",
    "def reduce_mem_usage(df):\n",
    "    \"\"\" iterate through all the columns of a dataframe and modify the data type\n",
    "        to reduce memory usage.\n",
    "    \"\"\"\n",
    "    start_mem = df.memory_usage(deep=True).sum() / 1024 ** 2\n",
    "    print('Memory usage of dataframe is {:.2f} MB'.format(start_mem))\n",
    "\n",
    "    for col in df.columns:\n",
    "        col_type = df[col].dtype\n",
    "\n",
    "        if col_type != object:\n",
    "            c_min = df[col].min()\n",
    "            c_max = df[col].max()\n",
    "            if str(col_type)[:3] == 'int':\n",
    "                if c_min > np.iinfo(np.int8).min and c_max < np.iinfo(np.int8).max:\n",
    "                    df[col] = df[col].astype(np.int8)\n",
    "                elif c_min > np.iinfo(np.int16).min and c_max < np.iinfo(np.int16).max:\n",
    "                    df[col] = df[col].astype(np.int16)\n",
    "                elif c_min > np.iinfo(np.int32).min and c_max < np.iinfo(np.int32).max:\n",
    "                    df[col] = df[col].astype(np.int32)\n",
    "                elif c_min > np.iinfo(np.int64).min and c_max < np.iinfo(np.int64).max:\n",
    "                    df[col] = df[col].astype(np.int64)\n",
    "            else:\n",
    "                if c_min > np.finfo(np.float32).min and c_max < np.finfo(np.float32).max:\n",
    "                    df[col] = df[col].astype(np.float32)\n",
    "                else:\n",
    "                    df[col] = df[col].astype(np.float64)\n",
    "        else:\n",
    "            df[col] = df[col].astype('category')\n",
    "\n",
    "    end_mem = df.memory_usage(deep=True).sum() / 1024 ** 2\n",
    "    print('Memory usage after optimization is: {:.2f} MB'.format(end_mem))\n",
    "    print('Decreased by {:.1f}%'.format(100 * (start_mem - end_mem) / start_mem))\n",
    "\n",
    "    return df\n",
    "\n",
    "reduce_mem_usage(X_train)"
   ]
  },
  {
   "cell_type": "code",
   "execution_count": 118,
   "id": "9276f0dc",
   "metadata": {},
   "outputs": [
    {
     "data": {
      "text/plain": [
       "['department',\n",
       " 'brand',\n",
       " 'commodity_desc',\n",
       " 'sub_commodity_desc',\n",
       " 'curr_size_of_product',\n",
       " 'age_desc',\n",
       " 'marital_status_code',\n",
       " 'income_desc',\n",
       " 'homeowner_desc',\n",
       " 'hh_comp_desc',\n",
       " 'household_size_desc',\n",
       " 'kid_category_desc']"
      ]
     },
     "execution_count": 118,
     "metadata": {},
     "output_type": "execute_result"
    }
   ],
   "source": [
    "cat_features = X_train.dtypes[X_train.dtypes == 'category'].index.tolist()\n",
    "cat_features"
   ]
  },
  {
   "cell_type": "markdown",
   "id": "c8151c18",
   "metadata": {},
   "source": [
    "**#TODO**: Select best models in LGBMClassifier and Catboost"
   ]
  },
  {
   "cell_type": "markdown",
   "id": "ae8df196",
   "metadata": {},
   "source": [
    "**#TODO**: improve models"
   ]
  },
  {
   "cell_type": "code",
   "execution_count": 120,
   "id": "6246ec95",
   "metadata": {},
   "outputs": [
    {
     "name": "stderr",
     "output_type": "stream",
     "text": [
      "C:\\ProgramData\\Anaconda3_\\lib\\site-packages\\sklearn\\utils\\validation.py:63: DataConversionWarning: A column-vector y was passed when a 1d array was expected. Please change the shape of y to (n_samples, ), for example using ravel().\n",
      "  return f(*args, **kwargs)\n",
      "C:\\ProgramData\\Anaconda3_\\lib\\site-packages\\lightgbm\\basic.py:1245: UserWarning: categorical_column in param dict is overridden.\n",
      "  _log_warning('{} in param dict is overridden.'.format(cat_alias))\n"
     ]
    },
    {
     "name": "stdout",
     "output_type": "stream",
     "text": [
      "Wall time: 11.4 s\n"
     ]
    }
   ],
   "source": [
    "%%time\n",
    "\n",
    "lgb = LGBMClassifier(objective='binary',\n",
    "                     max_depth=8,\n",
    "                     n_estimators=300,\n",
    "                     learning_rate=0.05,\n",
    "                     categorical_column=cat_feats)\n",
    "\n",
    "lgb.fit(X_train, y_train)\n",
    "\n",
    "train_preds = lgb.predict_proba(X_train)"
   ]
  },
  {
   "cell_type": "code",
   "execution_count": 132,
   "id": "7e7c0acf",
   "metadata": {},
   "outputs": [],
   "source": [
    "df_ranker_predict = df_ranker_train.copy()"
   ]
  },
  {
   "cell_type": "code",
   "execution_count": 133,
   "id": "7dcb88f7",
   "metadata": {},
   "outputs": [],
   "source": [
    "df_ranker_predict['proba_item_purchase'] = train_preds[:,1]"
   ]
  },
  {
   "cell_type": "code",
   "execution_count": 134,
   "id": "a1b55d3c",
   "metadata": {},
   "outputs": [
    {
     "data": {
      "text/html": [
       "<div>\n",
       "<style scoped>\n",
       "    .dataframe tbody tr th:only-of-type {\n",
       "        vertical-align: middle;\n",
       "    }\n",
       "\n",
       "    .dataframe tbody tr th {\n",
       "        vertical-align: top;\n",
       "    }\n",
       "\n",
       "    .dataframe thead th {\n",
       "        text-align: right;\n",
       "    }\n",
       "</style>\n",
       "<table border=\"1\" class=\"dataframe\">\n",
       "  <thead>\n",
       "    <tr style=\"text-align: right;\">\n",
       "      <th></th>\n",
       "      <th>user_id</th>\n",
       "      <th>item_id</th>\n",
       "      <th>target</th>\n",
       "      <th>manufacturer</th>\n",
       "      <th>department</th>\n",
       "      <th>brand</th>\n",
       "      <th>commodity_desc</th>\n",
       "      <th>sub_commodity_desc</th>\n",
       "      <th>curr_size_of_product</th>\n",
       "      <th>avg_price_a_department</th>\n",
       "      <th>...</th>\n",
       "      <th>GROCERY_price</th>\n",
       "      <th>MEAT_count</th>\n",
       "      <th>AUTOMOTIVE_count</th>\n",
       "      <th>CNTRL/STORE SUP_price</th>\n",
       "      <th>AUTOMOTIVE_price</th>\n",
       "      <th>MEAT-PCKGD_count</th>\n",
       "      <th>VIDEO_count</th>\n",
       "      <th>FROZEN GROCERY_price</th>\n",
       "      <th>MISC. TRANS._price</th>\n",
       "      <th>proba_item_purchase</th>\n",
       "    </tr>\n",
       "  </thead>\n",
       "  <tbody>\n",
       "    <tr>\n",
       "      <th>0</th>\n",
       "      <td>2070</td>\n",
       "      <td>1085604</td>\n",
       "      <td>1.0</td>\n",
       "      <td>103</td>\n",
       "      <td>GROCERY</td>\n",
       "      <td>National</td>\n",
       "      <td>SOFT DRINKS</td>\n",
       "      <td>SFT DRNK SNGL SRV BTL CARB (EX</td>\n",
       "      <td>20 OZ</td>\n",
       "      <td>2.102374</td>\n",
       "      <td>...</td>\n",
       "      <td>1.628849</td>\n",
       "      <td>8.0</td>\n",
       "      <td>0.0</td>\n",
       "      <td>0.0</td>\n",
       "      <td>0.0</td>\n",
       "      <td>8.0</td>\n",
       "      <td>0.0</td>\n",
       "      <td>0.0</td>\n",
       "      <td>0.0</td>\n",
       "      <td>0.603835</td>\n",
       "    </tr>\n",
       "    <tr>\n",
       "      <th>1</th>\n",
       "      <td>2070</td>\n",
       "      <td>1107553</td>\n",
       "      <td>0.0</td>\n",
       "      <td>103</td>\n",
       "      <td>GROCERY</td>\n",
       "      <td>National</td>\n",
       "      <td>SOFT DRINKS</td>\n",
       "      <td>SFT DRNK SNGL SRV BTL CARB (EX</td>\n",
       "      <td>20 OZ</td>\n",
       "      <td>2.102374</td>\n",
       "      <td>...</td>\n",
       "      <td>1.628849</td>\n",
       "      <td>8.0</td>\n",
       "      <td>0.0</td>\n",
       "      <td>0.0</td>\n",
       "      <td>0.0</td>\n",
       "      <td>8.0</td>\n",
       "      <td>0.0</td>\n",
       "      <td>0.0</td>\n",
       "      <td>0.0</td>\n",
       "      <td>0.491685</td>\n",
       "    </tr>\n",
       "    <tr>\n",
       "      <th>2</th>\n",
       "      <td>2070</td>\n",
       "      <td>1082185</td>\n",
       "      <td>1.0</td>\n",
       "      <td>2</td>\n",
       "      <td>PRODUCE</td>\n",
       "      <td>National</td>\n",
       "      <td>TROPICAL FRUIT</td>\n",
       "      <td>BANANAS</td>\n",
       "      <td>40 LB</td>\n",
       "      <td>2.075872</td>\n",
       "      <td>...</td>\n",
       "      <td>1.628849</td>\n",
       "      <td>8.0</td>\n",
       "      <td>0.0</td>\n",
       "      <td>0.0</td>\n",
       "      <td>0.0</td>\n",
       "      <td>8.0</td>\n",
       "      <td>0.0</td>\n",
       "      <td>0.0</td>\n",
       "      <td>0.0</td>\n",
       "      <td>0.870801</td>\n",
       "    </tr>\n",
       "    <tr>\n",
       "      <th>3</th>\n",
       "      <td>2070</td>\n",
       "      <td>908531</td>\n",
       "      <td>1.0</td>\n",
       "      <td>69</td>\n",
       "      <td>GROCERY</td>\n",
       "      <td>Private</td>\n",
       "      <td>FLUID MILK PRODUCTS</td>\n",
       "      <td>CHOCOLATE MILK</td>\n",
       "      <td></td>\n",
       "      <td>2.102374</td>\n",
       "      <td>...</td>\n",
       "      <td>1.628849</td>\n",
       "      <td>8.0</td>\n",
       "      <td>0.0</td>\n",
       "      <td>0.0</td>\n",
       "      <td>0.0</td>\n",
       "      <td>8.0</td>\n",
       "      <td>0.0</td>\n",
       "      <td>0.0</td>\n",
       "      <td>0.0</td>\n",
       "      <td>0.304932</td>\n",
       "    </tr>\n",
       "    <tr>\n",
       "      <th>4</th>\n",
       "      <td>2070</td>\n",
       "      <td>1029743</td>\n",
       "      <td>0.0</td>\n",
       "      <td>69</td>\n",
       "      <td>GROCERY</td>\n",
       "      <td>Private</td>\n",
       "      <td>FLUID MILK PRODUCTS</td>\n",
       "      <td>FLUID MILK WHITE ONLY</td>\n",
       "      <td>1 GA</td>\n",
       "      <td>2.102374</td>\n",
       "      <td>...</td>\n",
       "      <td>1.628849</td>\n",
       "      <td>8.0</td>\n",
       "      <td>0.0</td>\n",
       "      <td>0.0</td>\n",
       "      <td>0.0</td>\n",
       "      <td>8.0</td>\n",
       "      <td>0.0</td>\n",
       "      <td>0.0</td>\n",
       "      <td>0.0</td>\n",
       "      <td>0.755096</td>\n",
       "    </tr>\n",
       "  </tbody>\n",
       "</table>\n",
       "<p>5 rows × 86 columns</p>\n",
       "</div>"
      ],
      "text/plain": [
       "   user_id  item_id  target  manufacturer department     brand  \\\n",
       "0     2070  1085604     1.0           103    GROCERY  National   \n",
       "1     2070  1107553     0.0           103    GROCERY  National   \n",
       "2     2070  1082185     1.0             2    PRODUCE  National   \n",
       "3     2070   908531     1.0            69    GROCERY   Private   \n",
       "4     2070  1029743     0.0            69    GROCERY   Private   \n",
       "\n",
       "        commodity_desc              sub_commodity_desc curr_size_of_product  \\\n",
       "0          SOFT DRINKS  SFT DRNK SNGL SRV BTL CARB (EX                20 OZ   \n",
       "1          SOFT DRINKS  SFT DRNK SNGL SRV BTL CARB (EX                20 OZ   \n",
       "2       TROPICAL FRUIT                         BANANAS                40 LB   \n",
       "3  FLUID MILK PRODUCTS                  CHOCOLATE MILK                        \n",
       "4  FLUID MILK PRODUCTS           FLUID MILK WHITE ONLY                 1 GA   \n",
       "\n",
       "   avg_price_a_department  ...  GROCERY_price  MEAT_count  AUTOMOTIVE_count  \\\n",
       "0                2.102374  ...       1.628849         8.0               0.0   \n",
       "1                2.102374  ...       1.628849         8.0               0.0   \n",
       "2                2.075872  ...       1.628849         8.0               0.0   \n",
       "3                2.102374  ...       1.628849         8.0               0.0   \n",
       "4                2.102374  ...       1.628849         8.0               0.0   \n",
       "\n",
       "   CNTRL/STORE SUP_price  AUTOMOTIVE_price MEAT-PCKGD_count VIDEO_count  \\\n",
       "0                    0.0               0.0              8.0         0.0   \n",
       "1                    0.0               0.0              8.0         0.0   \n",
       "2                    0.0               0.0              8.0         0.0   \n",
       "3                    0.0               0.0              8.0         0.0   \n",
       "4                    0.0               0.0              8.0         0.0   \n",
       "\n",
       "  FROZEN GROCERY_price MISC. TRANS._price proba_item_purchase  \n",
       "0                  0.0                0.0            0.603835  \n",
       "1                  0.0                0.0            0.491685  \n",
       "2                  0.0                0.0            0.870801  \n",
       "3                  0.0                0.0            0.304932  \n",
       "4                  0.0                0.0            0.755096  \n",
       "\n",
       "[5 rows x 86 columns]"
      ]
     },
     "execution_count": 134,
     "metadata": {},
     "output_type": "execute_result"
    }
   ],
   "source": [
    "df_ranker_predict.head()"
   ]
  },
  {
   "cell_type": "markdown",
   "id": "3228179c",
   "metadata": {},
   "source": [
    "# Evaluation on test dataset"
   ]
  },
  {
   "cell_type": "code",
   "execution_count": 124,
   "id": "9c7d6d3f",
   "metadata": {
    "scrolled": true
   },
   "outputs": [
    {
     "data": {
      "text/plain": [
       "0.16943277310924182"
      ]
     },
     "execution_count": 124,
     "metadata": {},
     "output_type": "execute_result"
    }
   ],
   "source": [
    "precision_at_k_matching"
   ]
  },
  {
   "cell_type": "code",
   "execution_count": 125,
   "id": "2f351766",
   "metadata": {},
   "outputs": [
    {
     "data": {
      "text/html": [
       "<div>\n",
       "<style scoped>\n",
       "    .dataframe tbody tr th:only-of-type {\n",
       "        vertical-align: middle;\n",
       "    }\n",
       "\n",
       "    .dataframe tbody tr th {\n",
       "        vertical-align: top;\n",
       "    }\n",
       "\n",
       "    .dataframe thead th {\n",
       "        text-align: right;\n",
       "    }\n",
       "</style>\n",
       "<table border=\"1\" class=\"dataframe\">\n",
       "  <thead>\n",
       "    <tr style=\"text-align: right;\">\n",
       "      <th></th>\n",
       "      <th>user_id</th>\n",
       "      <th>actual</th>\n",
       "    </tr>\n",
       "  </thead>\n",
       "  <tbody>\n",
       "    <tr>\n",
       "      <th>0</th>\n",
       "      <td>1</td>\n",
       "      <td>[821867, 834484, 856942, 865456, 889248, 90795...</td>\n",
       "    </tr>\n",
       "    <tr>\n",
       "      <th>1</th>\n",
       "      <td>6</td>\n",
       "      <td>[920308, 926804, 946489, 1006718, 1017061, 107...</td>\n",
       "    </tr>\n",
       "  </tbody>\n",
       "</table>\n",
       "</div>"
      ],
      "text/plain": [
       "   user_id                                             actual\n",
       "0        1  [821867, 834484, 856942, 865456, 889248, 90795...\n",
       "1        6  [920308, 926804, 946489, 1006718, 1017061, 107..."
      ]
     },
     "execution_count": 125,
     "metadata": {},
     "output_type": "execute_result"
    }
   ],
   "source": [
    "result_eval_ranker = data_val_ranker.groupby(USER_COL)[ITEM_COL].unique().reset_index()\n",
    "result_eval_ranker.columns=[USER_COL, ACTUAL_COL]\n",
    "result_eval_ranker.head(2)"
   ]
  },
  {
   "cell_type": "markdown",
   "id": "d952e9e3",
   "metadata": {},
   "source": [
    "## Eval matching on test dataset"
   ]
  },
  {
   "cell_type": "code",
   "execution_count": 127,
   "id": "295a5594",
   "metadata": {},
   "outputs": [],
   "source": [
    "N_PREDICT = 5"
   ]
  },
  {
   "cell_type": "code",
   "execution_count": 128,
   "id": "ee43c984",
   "metadata": {},
   "outputs": [
    {
     "name": "stdout",
     "output_type": "stream",
     "text": [
      "Wall time: 11.3 s\n"
     ]
    }
   ],
   "source": [
    "%%time\n",
    "result_eval_ranker['als_rec'] = result_eval_ranker[USER_COL].apply(lambda x: recommender.get_als_recommendations(x, N=N_PREDICT))"
   ]
  },
  {
   "cell_type": "code",
   "execution_count": 129,
   "id": "05351929",
   "metadata": {},
   "outputs": [
    {
     "data": {
      "text/plain": [
       "[('als_rec', 0.14474789915966274)]"
      ]
     },
     "execution_count": 129,
     "metadata": {},
     "output_type": "execute_result"
    }
   ],
   "source": [
    "sorted(calc_precision(result_eval_ranker, TOPK_PRECISION), key=lambda x: x[1], reverse=True)"
   ]
  },
  {
   "cell_type": "markdown",
   "id": "50750deb",
   "metadata": {},
   "source": [
    "## Eval re-ranked matched result on test dataset"
   ]
  },
  {
   "cell_type": "code",
   "execution_count": 130,
   "id": "9a54836f",
   "metadata": {},
   "outputs": [],
   "source": [
    "def rerank(user_id):\n",
    "    return df_ranker_predict[df_ranker_predict[USER_COL]==user_id].sort_values('proba_item_purchase', ascending=False).head(5).item_id.tolist()"
   ]
  },
  {
   "cell_type": "code",
   "execution_count": 135,
   "id": "3b657e1d",
   "metadata": {},
   "outputs": [],
   "source": [
    "result_eval_ranker['reranked_als_rec'] = result_eval_ranker[USER_COL].apply(lambda user_id: rerank(user_id))"
   ]
  },
  {
   "cell_type": "code",
   "execution_count": 136,
   "id": "774b1b55",
   "metadata": {},
   "outputs": [
    {
     "name": "stdout",
     "output_type": "stream",
     "text": [
      "('reranked_als_rec', 0.18939075630251753)\n",
      "('als_rec', 0.14474789915966274)\n"
     ]
    }
   ],
   "source": [
    "print(*sorted(calc_precision(result_eval_ranker, TOPK_PRECISION), key=lambda x: x[1], reverse=True), sep='\\n')"
   ]
  }
 ],
 "metadata": {
  "kernelspec": {
   "display_name": "Python 3 (ipykernel)",
   "language": "python",
   "name": "python3"
  },
  "language_info": {
   "codemirror_mode": {
    "name": "ipython",
    "version": 3
   },
   "file_extension": ".py",
   "mimetype": "text/x-python",
   "name": "python",
   "nbconvert_exporter": "python",
   "pygments_lexer": "ipython3",
   "version": "3.9.7"
  }
 },
 "nbformat": 4,
 "nbformat_minor": 5
}

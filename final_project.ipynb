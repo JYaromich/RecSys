{
 "cells": [
  {
   "cell_type": "markdown",
   "id": "0de5862f",
   "metadata": {},
   "source": [
    "# Финальный проект"
   ]
  },
  {
   "cell_type": "markdown",
   "id": "fe786dcd",
   "metadata": {},
   "source": [
    "-------------------------------------------------------"
   ]
  },
  {
   "cell_type": "markdown",
   "id": "570c814a",
   "metadata": {},
   "source": [
    "# Import libs"
   ]
  },
  {
   "cell_type": "code",
   "execution_count": 137,
   "id": "2a1cd522",
   "metadata": {},
   "outputs": [
    {
     "name": "stdout",
     "output_type": "stream",
     "text": [
      "The autoreload extension is already loaded. To reload it, use:\n",
      "  %reload_ext autoreload\n"
     ]
    }
   ],
   "source": [
    "%load_ext autoreload\n",
    "%autoreload 2\n",
    "\n",
    "import pandas as pd\n",
    "import numpy as np\n",
    "import matplotlib.pyplot as plt\n",
    "%matplotlib inline\n",
    "\n",
    "from sklearn.pipeline import make_pipeline\n",
    "from sklearn.impute import SimpleImputer\n",
    "# Для работы с матрицами\n",
    "from scipy.sparse import csr_matrix\n",
    "\n",
    "# Матричная факторизация\n",
    "from implicit import als\n",
    "\n",
    "# Модель второго уровня\n",
    "from lightgbm import LGBMClassifier\n",
    "\n",
    "import os, sys\n",
    "sys.path.append(os.path.abspath('../src/'))\n",
    "\n",
    "# Написанные нами функции\n",
    "from metrics import precision_at_k, recall_at_k\n",
    "from utils import prefilter_items, PrefilterItems\n",
    "from recommenders import ALSRecommendation, OwnRecommendation, PopularItemsRecommendation, BaseRecommender, ClassificationModel, LightGBMRecommendation"
   ]
  },
  {
   "cell_type": "code",
   "execution_count": 138,
   "id": "47d1b13e",
   "metadata": {},
   "outputs": [],
   "source": [
    "import requests\n",
    "\n",
    "tg_api_token = '5043397400:AAExpKcTarTWA2nYlvB_rOyL7vMVe8e1DFw'\n",
    "tg_chat_id = '1971178318'\n",
    "\n",
    "def send_tg_message(text='Cell execution completed.'):\n",
    "    requests.post(\n",
    "        'https://api.telegram.org/' +\n",
    "        'bot{}/sendMessage'.format(tg_api_token), \n",
    "        params=dict(chat_id=tg_chat_id, text=text)\n",
    "    )"
   ]
  },
  {
   "cell_type": "markdown",
   "id": "f7a9e8d2",
   "metadata": {},
   "source": [
    "## Read data"
   ]
  },
  {
   "cell_type": "code",
   "execution_count": 139,
   "id": "97bbdefe",
   "metadata": {
    "scrolled": true
   },
   "outputs": [],
   "source": [
    "from pathlib import Path\n",
    "\n",
    "DATA_PATH = Path('../Data/')\n",
    "RETAIL_TRAIN_PATH = DATA_PATH / 'retail_train.csv'\n",
    "ITEM_FEATURE_PATH = DATA_PATH / 'product.csv'\n",
    "USER_FEATURE_PATH = DATA_PATH / 'hh_demographic.csv'\n",
    "TEST_DATA = DATA_PATH / 'retail_test1.csv'\n",
    "\n",
    "data = pd.read_csv(RETAIL_TRAIN_PATH)\n",
    "item_features = pd.read_csv(ITEM_FEATURE_PATH)\n",
    "user_features = pd.read_csv(USER_FEATURE_PATH)\n",
    "test_data = pd.read_csv(TEST_DATA)\n"
   ]
  },
  {
   "cell_type": "code",
   "execution_count": 140,
   "id": "62aae9ec",
   "metadata": {},
   "outputs": [],
   "source": [
    "train_data = data.copy()"
   ]
  },
  {
   "cell_type": "markdown",
   "id": "0c2ec8a4",
   "metadata": {},
   "source": [
    "# Process features dataset"
   ]
  },
  {
   "cell_type": "code",
   "execution_count": 141,
   "id": "4fa29959",
   "metadata": {},
   "outputs": [],
   "source": [
    "ITEM_COL = 'item_id'\n",
    "USER_COL = 'user_id'\n",
    "\n",
    "# column processing\n",
    "item_features.columns = [col.lower() for col in item_features.columns]\n",
    "user_features.columns = [col.lower() for col in user_features.columns]\n",
    "\n",
    "item_features.rename(columns={'product_id': ITEM_COL}, inplace=True)\n",
    "user_features.rename(columns={'household_key': USER_COL }, inplace=True)"
   ]
  },
  {
   "cell_type": "markdown",
   "id": "866d9db7",
   "metadata": {},
   "source": [
    "# Split dataset for train, eval, test"
   ]
  },
  {
   "cell_type": "markdown",
   "id": "a0d460b6",
   "metadata": {
    "pycharm": {
     "name": "#%% md\n"
    }
   },
   "source": [
    "**TODO:** подобрать размер 2-ого датасета (6 недель) --> learning curve (зависимость метрики recall@k от размера датасета)"
   ]
  },
  {
   "cell_type": "code",
   "execution_count": 142,
   "id": "2f8d43e0",
   "metadata": {},
   "outputs": [],
   "source": [
    "# Важна схема обучения и валидации!\n",
    "# -- давние покупки -- | -- 6 недель -- | -- 3 недель --\n",
    "\n",
    "\n",
    "VAL_MATCHER_WEEKS = 6\n",
    "VAL_RANKER_WEEKS = 3"
   ]
  },
  {
   "cell_type": "code",
   "execution_count": 143,
   "id": "2b8f3267",
   "metadata": {},
   "outputs": [],
   "source": [
    "# данные со старых покупок до 9 недельной давности. Тренировка для модели первого уровня\n",
    "data_train_matcher = data[data['week_no'] < data['week_no'].max() - (VAL_MATCHER_WEEKS + VAL_RANKER_WEEKS)]\n",
    "\n",
    "# данные от 9 недельной давности до 3 недельной давности. Тест для модели первого уровня\n",
    "data_val_matcher = data[(data['week_no'] >= data['week_no'].max() - (VAL_MATCHER_WEEKS + VAL_RANKER_WEEKS)) &\n",
    "                      (data['week_no'] < data['week_no'].max() - (VAL_RANKER_WEEKS))]\n",
    "\n",
    "\n",
    "# берем данные для тренировки ranking модели\n",
    "data_train_ranker = data_val_matcher.copy()  # Для наглядности. Далее мы добавим изменения, и они будут отличаться\n",
    "\n",
    "# берем данные для теста ranking, matching модели (не более 3 недельной давности)\n",
    "data_val_ranker = data[data['week_no'] >= data['week_no'].max() - VAL_RANKER_WEEKS]"
   ]
  },
  {
   "cell_type": "code",
   "execution_count": 144,
   "id": "a497b8e9",
   "metadata": {},
   "outputs": [],
   "source": [
    "def print_stats_data(df_data, name_df):\n",
    "    print(name_df)\n",
    "    print(f\"Shape: {df_data.shape} Users: {df_data[USER_COL].nunique()} Items: {df_data[ITEM_COL].nunique()}\")"
   ]
  },
  {
   "cell_type": "code",
   "execution_count": 145,
   "id": "312dbafc",
   "metadata": {},
   "outputs": [
    {
     "name": "stdout",
     "output_type": "stream",
     "text": [
      "train_matcher\n",
      "Shape: (2108779, 12) Users: 2498 Items: 83685\n",
      "val_matcher\n",
      "Shape: (169711, 12) Users: 2154 Items: 27649\n",
      "train_ranker\n",
      "Shape: (169711, 12) Users: 2154 Items: 27649\n",
      "val_ranker\n",
      "Shape: (118314, 12) Users: 2042 Items: 24329\n",
      "test_data\n",
      "Shape: (88734, 12) Users: 1885 Items: 20497\n"
     ]
    }
   ],
   "source": [
    "print_stats_data(data_train_matcher,'train_matcher')\n",
    "print_stats_data(data_val_matcher,'val_matcher')\n",
    "print_stats_data(data_train_ranker,'train_ranker')\n",
    "print_stats_data(data_val_ranker,'val_ranker')\n",
    "print_stats_data(test_data, 'test_data')"
   ]
  },
  {
   "cell_type": "markdown",
   "id": "052034fb",
   "metadata": {},
   "source": [
    "# Prefilter items"
   ]
  },
  {
   "cell_type": "code",
   "execution_count": 146,
   "id": "a82856ac",
   "metadata": {},
   "outputs": [],
   "source": [
    "#wrapper for prefilter func\n",
    "\n",
    "class PrefilterItems:\n",
    "    def __init__(self, items_data, take_n_popular, warm_start, main_data=None) -> None:\n",
    "        self.main_data = main_data\n",
    "        self.items_data = items_data\n",
    "        self.take_n_popular =take_n_popular\n",
    "        self.warm_start = warm_start\n",
    "    \n",
    "    def __call__(self, *args: 'Any', **kwds: 'Any') -> pd.DataFrame:\n",
    "        params = {\n",
    "            'data': self.main_data,\n",
    "            'items_data': self.items_data,\n",
    "            'take_n_popular': self.take_n_popular,\n",
    "            'warm_start': self.warm_start\n",
    "        }\n",
    "        \n",
    "        return prefilter_items(**params)\n",
    "    "
   ]
  },
  {
   "cell_type": "code",
   "execution_count": 147,
   "id": "2d8128bf",
   "metadata": {},
   "outputs": [
    {
     "name": "stdout",
     "output_type": "stream",
     "text": [
      "Decreased # items from 83685 to 5000\n"
     ]
    }
   ],
   "source": [
    "#TODO: подобрать take_n_popular\n",
    "\n",
    "n_items_before = data_train_matcher['item_id'].nunique()\n",
    "\n",
    "data_train_matcher = prefilter_items(data_train_matcher,\n",
    "                                     items_data=item_features, \n",
    "                                     take_n_popular=5000,\n",
    "                                     warm_start=True\n",
    "                                    )\n",
    "\n",
    "n_items_after = data_train_matcher['item_id'].nunique()\n",
    "print('Decreased # items from {} to {}'.format(n_items_before, n_items_after))"
   ]
  },
  {
   "cell_type": "markdown",
   "id": "52dd66b6",
   "metadata": {},
   "source": [
    "# Make cold-start to warm-start"
   ]
  },
  {
   "cell_type": "code",
   "execution_count": 148,
   "id": "e9c88d01",
   "metadata": {},
   "outputs": [
    {
     "name": "stdout",
     "output_type": "stream",
     "text": [
      "train_matcher\n",
      "Shape: (1013530, 13) Users: 1904 Items: 5000\n",
      "val_matcher\n",
      "Shape: (162611, 12) Users: 1904 Items: 26640\n",
      "train_ranker\n",
      "Shape: (162611, 12) Users: 1904 Items: 26640\n",
      "val_ranker\n",
      "Shape: (115539, 12) Users: 1904 Items: 23734\n"
     ]
    }
   ],
   "source": [
    "# TODO: make cold-start\n",
    "\n",
    "# ищем общих пользователей\n",
    "common_users = list(set(data_train_matcher.user_id.values)&(set(data_val_matcher.user_id.values))&set(data_val_ranker.user_id.values))\n",
    "\n",
    "# warm-start: оставляем только тех пользователей которые есть во всех трех наборах данных\n",
    "data_train_matcher = data_train_matcher[data_train_matcher.user_id.isin(common_users)]\n",
    "data_val_matcher = data_val_matcher[data_val_matcher.user_id.isin(common_users)]\n",
    "data_train_ranker = data_train_ranker[data_train_ranker.user_id.isin(common_users)]\n",
    "data_val_ranker = data_val_ranker[data_val_ranker.user_id.isin(common_users)]\n",
    "\n",
    "print_stats_data(data_train_matcher,'train_matcher')\n",
    "print_stats_data(data_val_matcher,'val_matcher')\n",
    "print_stats_data(data_train_ranker,'train_ranker')\n",
    "print_stats_data(data_val_ranker,'val_ranker')"
   ]
  },
  {
   "cell_type": "markdown",
   "id": "37b65135",
   "metadata": {},
   "source": [
    "**#TODO**: попробовать другие модели LinearRegression, LightFM"
   ]
  },
  {
   "cell_type": "markdown",
   "id": "31aadbec",
   "metadata": {},
   "source": [
    "# Get candidates"
   ]
  },
  {
   "cell_type": "code",
   "execution_count": 149,
   "id": "1e67c876",
   "metadata": {
    "pycharm": {
     "name": "#%%\n"
    }
   },
   "outputs": [
    {
     "data": {
      "text/html": [
       "<div>\n",
       "<style scoped>\n",
       "    .dataframe tbody tr th:only-of-type {\n",
       "        vertical-align: middle;\n",
       "    }\n",
       "\n",
       "    .dataframe tbody tr th {\n",
       "        vertical-align: top;\n",
       "    }\n",
       "\n",
       "    .dataframe thead th {\n",
       "        text-align: right;\n",
       "    }\n",
       "</style>\n",
       "<table border=\"1\" class=\"dataframe\">\n",
       "  <thead>\n",
       "    <tr style=\"text-align: right;\">\n",
       "      <th></th>\n",
       "      <th>user_id</th>\n",
       "      <th>actual</th>\n",
       "    </tr>\n",
       "  </thead>\n",
       "  <tbody>\n",
       "    <tr>\n",
       "      <th>0</th>\n",
       "      <td>1</td>\n",
       "      <td>[853529, 865456, 867607, 872137, 874905, 87524...</td>\n",
       "    </tr>\n",
       "    <tr>\n",
       "      <th>1</th>\n",
       "      <td>6</td>\n",
       "      <td>[1024306, 1102949, 6548453, 835394, 940804, 96...</td>\n",
       "    </tr>\n",
       "  </tbody>\n",
       "</table>\n",
       "</div>"
      ],
      "text/plain": [
       "   user_id                                             actual\n",
       "0        1  [853529, 865456, 867607, 872137, 874905, 87524...\n",
       "1        6  [1024306, 1102949, 6548453, 835394, 940804, 96..."
      ]
     },
     "execution_count": 149,
     "metadata": {},
     "output_type": "execute_result"
    }
   ],
   "source": [
    "ACTUAL_COL = 'actual'\n",
    "\n",
    "def get_validation_data_frame(data_val):\n",
    "    result_eval_matcher = data_val.groupby(USER_COL)[ITEM_COL].unique().reset_index()\n",
    "    result_eval_matcher.columns=[USER_COL, ACTUAL_COL]\n",
    "    return result_eval_matcher\n",
    "\n",
    "\n",
    "result_eval_matcher = get_validation_data_frame(data_val_matcher)\n",
    "result_eval_matcher.head(2)\n"
   ]
  },
  {
   "cell_type": "code",
   "execution_count": 150,
   "id": "6507da1e",
   "metadata": {
    "pycharm": {
     "name": "#%%\n"
    }
   },
   "outputs": [],
   "source": [
    "def calc_recall(df_data, top_k):\n",
    "    for col_name in df_data.columns[2:]:\n",
    "        yield col_name, df_data.apply(lambda row: recall_at_k(row[col_name], row[ACTUAL_COL], k=top_k), axis=1).mean()"
   ]
  },
  {
   "cell_type": "code",
   "execution_count": 151,
   "id": "5f558e40",
   "metadata": {
    "pycharm": {
     "name": "#%%\n"
    }
   },
   "outputs": [],
   "source": [
    "# als_params = {'data':data_train_matcher, 'item_features': item_features, 'warm_start':True}\n",
    "\n",
    "# als_model = ALSRecommendation(**als_params)\n",
    "# als_model.fit()\n",
    "\n",
    "# bpr_model = ALSRecommendation(**als_params, use_bpr=True)\n",
    "# bpr_model.fit()\n",
    "\n",
    "# own = OwnRecommendation(data_train_matcher, warm_start=True)\n",
    "# own.fit()\n",
    "\n",
    "# result: best model it's als_model"
   ]
  },
  {
   "cell_type": "code",
   "execution_count": 152,
   "id": "fe333b47",
   "metadata": {
    "pycharm": {
     "is_executing": true
    }
   },
   "outputs": [],
   "source": [
    "#uncoment if need\n",
    "\n",
    "# from swifter import swifter\n",
    "# N_PREDICT = 50\n",
    "\n",
    "# models = {als_model:'als', bpr_model:'bpr'}\n",
    "# recommend_methods = ['base', 'similar_items', 'similar_user_items']\n",
    "\n",
    "# result_eval_matcher = get_validation_data_frame(data_val_matcher)\n",
    "\n",
    "# for model, name in models.items():\n",
    "#     for recommend_method in recommend_methods:\n",
    "#         result_eval_matcher[name + '_' + recommend_method] = result_eval_matcher[USER_COL].swifter.apply(lambda x: model.recommend(user=x, N=N_PREDICT, how=recommend_method))\n",
    "\n",
    "# result_eval_matcher['own'] = result_eval_matcher[USER_COL].swifter.apply(lambda x: own.recommend(user=x, N=N_PREDICT))\n",
    "# result_eval_matcher.head(2)"
   ]
  },
  {
   "cell_type": "code",
   "execution_count": 153,
   "id": "a7ab2abd",
   "metadata": {
    "scrolled": true
   },
   "outputs": [],
   "source": [
    "# sorted(calc_recall(result_eval_matcher, N_PREDICT), key=lambda x: x[1],reverse=True)"
   ]
  },
  {
   "cell_type": "markdown",
   "id": "64ce9b06",
   "metadata": {},
   "source": [
    "Видно, что лучшая модель из предложеных - als"
   ]
  },
  {
   "cell_type": "markdown",
   "id": "d080ca58",
   "metadata": {
    "pycharm": {
     "name": "#%% md\n"
    }
   },
   "source": [
    "## Improve first level model"
   ]
  },
  {
   "cell_type": "code",
   "execution_count": 154,
   "id": "f6469269",
   "metadata": {
    "pycharm": {
     "name": "#%%\n"
    }
   },
   "outputs": [],
   "source": [
    "from hyperopt import tpe, hp, fmin, STATUS_OK, Trials\n",
    "\n",
    "space = {\n",
    "    'n_factors': hp.choice('n_factors', [200, 300, 400]),\n",
    "    'regularization': hp.uniform('regularization', 0, 0.1),\n",
    "    'iterations': hp.choice('iterations', [60, 70, 80]),\n",
    "}"
   ]
  },
  {
   "cell_type": "code",
   "execution_count": 155,
   "id": "522f29aa",
   "metadata": {
    "pycharm": {
     "name": "#%%\n"
    }
   },
   "outputs": [],
   "source": [
    "N_PREDICTS = 500\n",
    "\n",
    "def hyperparametr_tuning(params):\n",
    "    model = ALSRecommendation(**params,\n",
    "                              data=data_train_matcher,\n",
    "                              item_features=item_features,\n",
    "                              warm_start=True,\n",
    "                              how='bpr'\n",
    "                             )\n",
    "\n",
    "    model.fit()\n",
    "\n",
    "    result_eval_matcher = get_validation_data_frame(data_val=data_val_matcher)\n",
    "    result_eval_matcher['als'] = result_eval_matcher.user_id.apply(lambda x: model.recommend(x, N=N_PREDICTS))\n",
    "\n",
    "    test_precision = list(calc_recall(result_eval_matcher, top_k=500))[0][1]\n",
    "\n",
    "    return {'loss': -test_precision, 'status': STATUS_OK}"
   ]
  },
  {
   "cell_type": "code",
   "execution_count": 156,
   "id": "5809571e",
   "metadata": {
    "pycharm": {
     "name": "#%%\n"
    }
   },
   "outputs": [],
   "source": [
    "trial = Trials()\n",
    "\n",
    "# best = fmin(\n",
    "#     fn=hyperparametr_tuning,\n",
    "#     space=space,\n",
    "#     algo=tpe.suggest,\n",
    "#     max_evals=10,\n",
    "#     trials=trial\n",
    "# )\n",
    "\n",
    "# print(f'Best {best}')\n",
    "# send_tg_message('I calc hyperparametr for 1 level model. Best params is {}'.format(best))\n",
    "\n",
    "# result is't \n",
    "# als_params = {'data':data_train_matcher, 'item_features': item_features, 'iterations':70, 'n_factors':400, 'regularization':0.018,'warm_start':True}"
   ]
  },
  {
   "cell_type": "code",
   "execution_count": 157,
   "id": "81c864f8",
   "metadata": {},
   "outputs": [
    {
     "data": {
      "text/plain": [
       "<implicit.cpu.als.AlternatingLeastSquares at 0x7fdd92cb2970>"
      ]
     },
     "execution_count": 157,
     "metadata": {},
     "output_type": "execute_result"
    }
   ],
   "source": [
    "als_params = {'data':data_train_matcher, 'item_features': item_features, 'iterations':70, 'n_factors':400, 'regularization':0.018,'warm_start':True}\n",
    "selected_model = ALSRecommendation(**als_params)\n",
    "selected_model.fit()"
   ]
  },
  {
   "cell_type": "markdown",
   "id": "f94a369c",
   "metadata": {},
   "source": [
    "## Подбор N_predict"
   ]
  },
  {
   "cell_type": "code",
   "execution_count": null,
   "id": "a961b78b",
   "metadata": {},
   "outputs": [],
   "source": [
    "N_PREDICT = 500\n",
    "\n",
    "n_predicts = [20, 50, 100, 200, 500]\n",
    "result_eval_matcher = get_validation_data_frame(data_val_matcher)\n",
    "\n",
    "result_eval_matcher['als'] = result_eval_matcher[USER_COL].swifter.apply(lambda x: selected_model.recommend(user=x, N=N_PREDICT, how='base'))\n",
    "\n",
    "recall_at_list = [round(list(calc_recall(result_eval_matcher, n_predict))[0][1], 5) for n_predict in n_predicts]"
   ]
  },
  {
   "cell_type": "code",
   "execution_count": null,
   "id": "274c14ed",
   "metadata": {},
   "outputs": [
    {
     "data": {
      "image/png": "[encoded data removed]",
      "text/plain": [
       "<Figure size 1152x648 with 1 Axes>"
      ]
     },
     "metadata": {
      "needs_background": "light"
     },
     "output_type": "display_data"
    }
   ],
   "source": [
    "plt.figure(figsize=(16, 9))\n",
    "plt.plot(n_predicts, recall_at_list, c='orange')\n",
    "plt.scatter(n_predicts, recall_at_list, c='green')\n",
    "\n",
    "[plt.text(n_predicts[i] + 2, recall_at_list[i] + .0005, txt, fontsize=9) for i, txt in enumerate(recall_at_list)]\n",
    "\n",
    "plt.grid()\n",
    "\n",
    "plt.xlabel('Count of recommends')\n",
    "plt.ylabel('recall')\n",
    "plt.show()"
   ]
  },
  {
   "cell_type": "markdown",
   "id": "1a4650d6",
   "metadata": {},
   "source": [
    "# Подготовка данных для трейна"
   ]
  },
  {
   "cell_type": "code",
   "execution_count": 159,
   "id": "88bd4c42",
   "metadata": {},
   "outputs": [
    {
     "data": {
      "text/html": [
       "<div>\n",
       "<style scoped>\n",
       "    .dataframe tbody tr th:only-of-type {\n",
       "        vertical-align: middle;\n",
       "    }\n",
       "\n",
       "    .dataframe tbody tr th {\n",
       "        vertical-align: top;\n",
       "    }\n",
       "\n",
       "    .dataframe thead th {\n",
       "        text-align: right;\n",
       "    }\n",
       "</style>\n",
       "<table border=\"1\" class=\"dataframe\">\n",
       "  <thead>\n",
       "    <tr style=\"text-align: right;\">\n",
       "      <th></th>\n",
       "      <th>user_id</th>\n",
       "    </tr>\n",
       "  </thead>\n",
       "  <tbody>\n",
       "    <tr>\n",
       "      <th>0</th>\n",
       "      <td>2070</td>\n",
       "    </tr>\n",
       "    <tr>\n",
       "      <th>1</th>\n",
       "      <td>2021</td>\n",
       "    </tr>\n",
       "  </tbody>\n",
       "</table>\n",
       "</div>"
      ],
      "text/plain": [
       "   user_id\n",
       "0     2070\n",
       "1     2021"
      ]
     },
     "execution_count": 159,
     "metadata": {},
     "output_type": "execute_result"
    }
   ],
   "source": [
    "# взяли пользователей из трейна для ранжирования\n",
    "df_match_candidates = pd.DataFrame(data_train_ranker[USER_COL].unique())\n",
    "df_match_candidates.columns = [USER_COL]\n",
    "df_match_candidates.head(2)"
   ]
  },
  {
   "cell_type": "code",
   "execution_count": 160,
   "id": "c18820e5",
   "metadata": {
    "scrolled": false
   },
   "outputs": [
    {
     "data": {
      "text/html": [
       "<div>\n",
       "<style scoped>\n",
       "    .dataframe tbody tr th:only-of-type {\n",
       "        vertical-align: middle;\n",
       "    }\n",
       "\n",
       "    .dataframe tbody tr th {\n",
       "        vertical-align: top;\n",
       "    }\n",
       "\n",
       "    .dataframe thead th {\n",
       "        text-align: right;\n",
       "    }\n",
       "</style>\n",
       "<table border=\"1\" class=\"dataframe\">\n",
       "  <thead>\n",
       "    <tr style=\"text-align: right;\">\n",
       "      <th></th>\n",
       "      <th>user_id</th>\n",
       "      <th>candidates</th>\n",
       "    </tr>\n",
       "  </thead>\n",
       "  <tbody>\n",
       "    <tr>\n",
       "      <th>0</th>\n",
       "      <td>2070</td>\n",
       "      <td>[8065410, 897954, 981760, 1000753, 1082185, 85...</td>\n",
       "    </tr>\n",
       "    <tr>\n",
       "      <th>1</th>\n",
       "      <td>2021</td>\n",
       "      <td>[950935, 1119454, 844179, 1019142, 1000753, 10...</td>\n",
       "    </tr>\n",
       "  </tbody>\n",
       "</table>\n",
       "</div>"
      ],
      "text/plain": [
       "   user_id                                         candidates\n",
       "0     2070  [8065410, 897954, 981760, 1000753, 1082185, 85...\n",
       "1     2021  [950935, 1119454, 844179, 1019142, 1000753, 10..."
      ]
     },
     "execution_count": 160,
     "metadata": {},
     "output_type": "execute_result"
    }
   ],
   "source": [
    "# собираем кандитатов с первого этапа (matcher)\n",
    "N_PREDICT=500\n",
    "\n",
    "df_match_candidates['candidates'] = df_match_candidates[USER_COL].apply(lambda x: selected_model.recommend(x, N=N_PREDICT))\n",
    "df_match_candidates.head(2)"
   ]
  },
  {
   "cell_type": "code",
   "execution_count": 161,
   "id": "0e0f5e41",
   "metadata": {},
   "outputs": [
    {
     "data": {
      "text/html": [
       "<div>\n",
       "<style scoped>\n",
       "    .dataframe tbody tr th:only-of-type {\n",
       "        vertical-align: middle;\n",
       "    }\n",
       "\n",
       "    .dataframe tbody tr th {\n",
       "        vertical-align: top;\n",
       "    }\n",
       "\n",
       "    .dataframe thead th {\n",
       "        text-align: right;\n",
       "    }\n",
       "</style>\n",
       "<table border=\"1\" class=\"dataframe\">\n",
       "  <thead>\n",
       "    <tr style=\"text-align: right;\">\n",
       "      <th></th>\n",
       "      <th>user_id</th>\n",
       "      <th>item_id</th>\n",
       "      <th>target</th>\n",
       "    </tr>\n",
       "  </thead>\n",
       "  <tbody>\n",
       "    <tr>\n",
       "      <th>0</th>\n",
       "      <td>2070</td>\n",
       "      <td>8065410</td>\n",
       "      <td>0.0</td>\n",
       "    </tr>\n",
       "    <tr>\n",
       "      <th>1</th>\n",
       "      <td>2070</td>\n",
       "      <td>897954</td>\n",
       "      <td>0.0</td>\n",
       "    </tr>\n",
       "  </tbody>\n",
       "</table>\n",
       "</div>"
      ],
      "text/plain": [
       "   user_id  item_id  target\n",
       "0     2070  8065410     0.0\n",
       "1     2070   897954     0.0"
      ]
     },
     "execution_count": 161,
     "metadata": {},
     "output_type": "execute_result"
    }
   ],
   "source": [
    "from recommenders import LightGBMRecommendation\n",
    "\n",
    "df_ranker_train = LightGBMRecommendation.create_user_item_matrix(df_match_candidates, data_train_ranker)\n",
    "df_ranker_train.head(2)"
   ]
  },
  {
   "cell_type": "markdown",
   "id": "7573f08b",
   "metadata": {},
   "source": [
    "## Add new features"
   ]
  },
  {
   "cell_type": "code",
   "execution_count": 162,
   "id": "eee8c02b",
   "metadata": {},
   "outputs": [
    {
     "data": {
      "text/html": [
       "<div>\n",
       "<style scoped>\n",
       "    .dataframe tbody tr th:only-of-type {\n",
       "        vertical-align: middle;\n",
       "    }\n",
       "\n",
       "    .dataframe tbody tr th {\n",
       "        vertical-align: top;\n",
       "    }\n",
       "\n",
       "    .dataframe thead th {\n",
       "        text-align: right;\n",
       "    }\n",
       "</style>\n",
       "<table border=\"1\" class=\"dataframe\">\n",
       "  <thead>\n",
       "    <tr style=\"text-align: right;\">\n",
       "      <th></th>\n",
       "      <th>user_id</th>\n",
       "      <th>item_id</th>\n",
       "      <th>target</th>\n",
       "    </tr>\n",
       "  </thead>\n",
       "  <tbody>\n",
       "    <tr>\n",
       "      <th>0</th>\n",
       "      <td>2070</td>\n",
       "      <td>8065410</td>\n",
       "      <td>0.0</td>\n",
       "    </tr>\n",
       "    <tr>\n",
       "      <th>1</th>\n",
       "      <td>2070</td>\n",
       "      <td>897954</td>\n",
       "      <td>0.0</td>\n",
       "    </tr>\n",
       "  </tbody>\n",
       "</table>\n",
       "</div>"
      ],
      "text/plain": [
       "   user_id  item_id  target\n",
       "0     2070  8065410     0.0\n",
       "1     2070   897954     0.0"
      ]
     },
     "execution_count": 162,
     "metadata": {},
     "output_type": "execute_result"
    }
   ],
   "source": [
    "# TODO: add other features\n",
    "df_ranker_train.head(2)"
   ]
  },
  {
   "cell_type": "markdown",
   "id": "7f00cf78",
   "metadata": {},
   "source": [
    "**Фичи user_id:**\n",
    "   - Средний чек\n",
    "   - Средняя сумма покупки 1 товара в каждой категории\n",
    "   - Кол-во покупок в каждой категории\n",
    "   - Частотность покупок раз/месяц\n",
    "   - Долю покупок в выходные\n",
    "   - Долю покупок утром/днем/вечером\n",
    "\n",
    "**Фичи item_id**:\n",
    "   - Кол-во покупок в неделю (как часто покупают этот товар)\n",
    "   - Среднее ол-во покупок 1 товара в категории в неделю (насколько востребована категория)\n",
    "   - (Кол-во покупок в неделю) / (Среднее ол-во покупок 1 товара в категории в неделю) - процент востребованости этого товара в данной категории\n",
    "   - Цена (Можно посчитать из retil_train.csv)\n",
    "   - Цена / Средняя цена товара в категории\n",
    "    \n",
    "**Фичи пары user_id - item_id**\n",
    "   - (Средняя сумма покупки 1 товара в каждой категории (берем категорию item_id)) - (Цена item_id)\n",
    "   - (Кол-во покупок юзером конкретной категории в неделю) - (Среднее кол-во покупок всеми юзерами конкретной категории в неделю)\n",
    "   - (Кол-во покупок юзером конкретной категории в неделю) / (Среднее кол-во покупок всеми юзерами конкретной категории в неделю)"
   ]
  },
  {
   "cell_type": "code",
   "execution_count": 163,
   "id": "2d7b3830",
   "metadata": {
    "scrolled": true
   },
   "outputs": [
    {
     "data": {
      "text/html": [
       "<div>\n",
       "<style scoped>\n",
       "    .dataframe tbody tr th:only-of-type {\n",
       "        vertical-align: middle;\n",
       "    }\n",
       "\n",
       "    .dataframe tbody tr th {\n",
       "        vertical-align: top;\n",
       "    }\n",
       "\n",
       "    .dataframe thead th {\n",
       "        text-align: right;\n",
       "    }\n",
       "</style>\n",
       "<table border=\"1\" class=\"dataframe\">\n",
       "  <thead>\n",
       "    <tr style=\"text-align: right;\">\n",
       "      <th></th>\n",
       "      <th>user_id</th>\n",
       "      <th>item_id</th>\n",
       "      <th>target</th>\n",
       "      <th>avg_price_a_department</th>\n",
       "      <th>avg_quantity_week</th>\n",
       "      <th>popular_items_a_week</th>\n",
       "      <th>higher_then_median_price_percent</th>\n",
       "      <th>like_percent_a_department</th>\n",
       "      <th>popular_department</th>\n",
       "      <th>manufacturer</th>\n",
       "      <th>...</th>\n",
       "      <th>SALAD BAR_price</th>\n",
       "      <th>DRUG GM_count</th>\n",
       "      <th>GARDEN CENTER_count</th>\n",
       "      <th>age_desc</th>\n",
       "      <th>marital_status_code</th>\n",
       "      <th>income_desc</th>\n",
       "      <th>homeowner_desc</th>\n",
       "      <th>hh_comp_desc</th>\n",
       "      <th>household_size_desc</th>\n",
       "      <th>kid_category_desc</th>\n",
       "    </tr>\n",
       "  </thead>\n",
       "  <tbody>\n",
       "    <tr>\n",
       "      <th>0</th>\n",
       "      <td>2070</td>\n",
       "      <td>8065410</td>\n",
       "      <td>0.0</td>\n",
       "      <td>3.103253</td>\n",
       "      <td>16.833333</td>\n",
       "      <td>16.833333</td>\n",
       "      <td>88.173612</td>\n",
       "      <td>1.250155</td>\n",
       "      <td>1346.500000</td>\n",
       "      <td>397.0</td>\n",
       "      <td>...</td>\n",
       "      <td>0.0</td>\n",
       "      <td>29.0</td>\n",
       "      <td>0.0</td>\n",
       "      <td>45-54</td>\n",
       "      <td>U</td>\n",
       "      <td>50-74K</td>\n",
       "      <td>Unknown</td>\n",
       "      <td>Unknown</td>\n",
       "      <td>1</td>\n",
       "      <td>None/Unknown</td>\n",
       "    </tr>\n",
       "    <tr>\n",
       "      <th>1</th>\n",
       "      <td>2070</td>\n",
       "      <td>897954</td>\n",
       "      <td>0.0</td>\n",
       "      <td>5.267759</td>\n",
       "      <td>12.333333</td>\n",
       "      <td>12.333333</td>\n",
       "      <td>64.450411</td>\n",
       "      <td>1.059868</td>\n",
       "      <td>1163.666667</td>\n",
       "      <td>4303.0</td>\n",
       "      <td>...</td>\n",
       "      <td>0.0</td>\n",
       "      <td>29.0</td>\n",
       "      <td>0.0</td>\n",
       "      <td>45-54</td>\n",
       "      <td>U</td>\n",
       "      <td>50-74K</td>\n",
       "      <td>Unknown</td>\n",
       "      <td>Unknown</td>\n",
       "      <td>1</td>\n",
       "      <td>None/Unknown</td>\n",
       "    </tr>\n",
       "  </tbody>\n",
       "</table>\n",
       "<p>2 rows × 86 columns</p>\n",
       "</div>"
      ],
      "text/plain": [
       "   user_id  item_id  target  avg_price_a_department  avg_quantity_week  \\\n",
       "0     2070  8065410     0.0                3.103253          16.833333   \n",
       "1     2070   897954     0.0                5.267759          12.333333   \n",
       "\n",
       "   popular_items_a_week  higher_then_median_price_percent  \\\n",
       "0             16.833333                         88.173612   \n",
       "1             12.333333                         64.450411   \n",
       "\n",
       "   like_percent_a_department  popular_department  manufacturer  ...  \\\n",
       "0                   1.250155         1346.500000         397.0  ...   \n",
       "1                   1.059868         1163.666667        4303.0  ...   \n",
       "\n",
       "  SALAD BAR_price DRUG GM_count GARDEN CENTER_count age_desc  \\\n",
       "0             0.0          29.0                 0.0    45-54   \n",
       "1             0.0          29.0                 0.0    45-54   \n",
       "\n",
       "  marital_status_code  income_desc  homeowner_desc  hh_comp_desc  \\\n",
       "0                   U       50-74K         Unknown       Unknown   \n",
       "1                   U       50-74K         Unknown       Unknown   \n",
       "\n",
       "   household_size_desc  kid_category_desc  \n",
       "0                    1       None/Unknown  \n",
       "1                    1       None/Unknown  \n",
       "\n",
       "[2 rows x 86 columns]"
      ]
     },
     "execution_count": 163,
     "metadata": {},
     "output_type": "execute_result"
    }
   ],
   "source": [
    "df_ranker_train = LightGBMRecommendation.additional_features(to=df_ranker_train, \n",
    "                                                              item_features=item_features,\n",
    "                                                              user_features=user_features,\n",
    "                                                              data_train=data_train_ranker)\n",
    "\n",
    "df_ranker_train.head(2)"
   ]
  },
  {
   "cell_type": "markdown",
   "id": "63b38a6d",
   "metadata": {},
   "source": [
    "## Fill nan"
   ]
  },
  {
   "cell_type": "code",
   "execution_count": 164,
   "id": "a0bf434e",
   "metadata": {
    "run_control": {
     "marked": true
    }
   },
   "outputs": [],
   "source": [
    "nun_column_name = df_ranker_train.isna().sum()[df_ranker_train.isna().sum() > 0].index.to_list()"
   ]
  },
  {
   "cell_type": "markdown",
   "id": "8801c153",
   "metadata": {},
   "source": [
    "Float columns we going to fill with method knn from sklearn"
   ]
  },
  {
   "cell_type": "code",
   "execution_count": 165,
   "id": "c8e79ee4",
   "metadata": {
    "scrolled": true
   },
   "outputs": [
    {
     "data": {
      "text/plain": [
       "['avg_price_a_department',\n",
       " 'avg_quantity_week',\n",
       " 'popular_items_a_week',\n",
       " 'higher_then_median_price_percent',\n",
       " 'like_percent_a_department',\n",
       " 'popular_department',\n",
       " 'manufacturer']"
      ]
     },
     "execution_count": 165,
     "metadata": {},
     "output_type": "execute_result"
    }
   ],
   "source": [
    "float_columns = df_ranker_train[nun_column_name].dtypes[df_ranker_train[nun_column_name].dtypes == 'float64'].index.to_list()\n",
    "float_columns"
   ]
  },
  {
   "cell_type": "markdown",
   "id": "cdfd302e",
   "metadata": {},
   "source": [
    "Cat columns we going to fill most frequently values "
   ]
  },
  {
   "cell_type": "code",
   "execution_count": 166,
   "id": "b2935837",
   "metadata": {
    "scrolled": true
   },
   "outputs": [],
   "source": [
    "cat_columns = df_ranker_train[nun_column_name].dtypes[df_ranker_train[nun_column_name].dtypes == 'object'].index.to_list()"
   ]
  },
  {
   "cell_type": "code",
   "execution_count": 167,
   "id": "14f17887",
   "metadata": {},
   "outputs": [
    {
     "data": {
      "text/html": [
       "<div>\n",
       "<style scoped>\n",
       "    .dataframe tbody tr th:only-of-type {\n",
       "        vertical-align: middle;\n",
       "    }\n",
       "\n",
       "    .dataframe tbody tr th {\n",
       "        vertical-align: top;\n",
       "    }\n",
       "\n",
       "    .dataframe thead th {\n",
       "        text-align: right;\n",
       "    }\n",
       "</style>\n",
       "<table border=\"1\" class=\"dataframe\">\n",
       "  <thead>\n",
       "    <tr style=\"text-align: right;\">\n",
       "      <th></th>\n",
       "      <th>user_id</th>\n",
       "      <th>item_id</th>\n",
       "      <th>target</th>\n",
       "      <th>avg_price_a_department</th>\n",
       "      <th>avg_quantity_week</th>\n",
       "      <th>popular_items_a_week</th>\n",
       "      <th>higher_then_median_price_percent</th>\n",
       "      <th>like_percent_a_department</th>\n",
       "      <th>popular_department</th>\n",
       "      <th>manufacturer</th>\n",
       "      <th>...</th>\n",
       "      <th>is_commodity_desc_miss</th>\n",
       "      <th>is_sub_commodity_desc_miss</th>\n",
       "      <th>is_curr_size_of_product_miss</th>\n",
       "      <th>is_age_desc_miss</th>\n",
       "      <th>is_marital_status_code_miss</th>\n",
       "      <th>is_income_desc_miss</th>\n",
       "      <th>is_homeowner_desc_miss</th>\n",
       "      <th>is_hh_comp_desc_miss</th>\n",
       "      <th>is_household_size_desc_miss</th>\n",
       "      <th>is_kid_category_desc_miss</th>\n",
       "    </tr>\n",
       "  </thead>\n",
       "  <tbody>\n",
       "    <tr>\n",
       "      <th>0</th>\n",
       "      <td>2070</td>\n",
       "      <td>8065410</td>\n",
       "      <td>0.0</td>\n",
       "      <td>3.103253</td>\n",
       "      <td>16.833333</td>\n",
       "      <td>16.833333</td>\n",
       "      <td>88.173612</td>\n",
       "      <td>1.250155</td>\n",
       "      <td>1346.5</td>\n",
       "      <td>397.0</td>\n",
       "      <td>...</td>\n",
       "      <td>False</td>\n",
       "      <td>False</td>\n",
       "      <td>False</td>\n",
       "      <td>False</td>\n",
       "      <td>False</td>\n",
       "      <td>False</td>\n",
       "      <td>False</td>\n",
       "      <td>False</td>\n",
       "      <td>False</td>\n",
       "      <td>False</td>\n",
       "    </tr>\n",
       "    <tr>\n",
       "      <th>1</th>\n",
       "      <td>2070</td>\n",
       "      <td>897954</td>\n",
       "      <td>0.0</td>\n",
       "      <td>5.267759</td>\n",
       "      <td>12.333333</td>\n",
       "      <td>12.333333</td>\n",
       "      <td>64.450411</td>\n",
       "      <td>1.059868</td>\n",
       "      <td>1163.666667</td>\n",
       "      <td>4303.0</td>\n",
       "      <td>...</td>\n",
       "      <td>False</td>\n",
       "      <td>False</td>\n",
       "      <td>False</td>\n",
       "      <td>False</td>\n",
       "      <td>False</td>\n",
       "      <td>False</td>\n",
       "      <td>False</td>\n",
       "      <td>False</td>\n",
       "      <td>False</td>\n",
       "      <td>False</td>\n",
       "    </tr>\n",
       "  </tbody>\n",
       "</table>\n",
       "<p>2 rows × 98 columns</p>\n",
       "</div>"
      ],
      "text/plain": [
       "  user_id  item_id target avg_price_a_department avg_quantity_week  \\\n",
       "0    2070  8065410    0.0               3.103253         16.833333   \n",
       "1    2070   897954    0.0               5.267759         12.333333   \n",
       "\n",
       "  popular_items_a_week higher_then_median_price_percent  \\\n",
       "0            16.833333                        88.173612   \n",
       "1            12.333333                        64.450411   \n",
       "\n",
       "  like_percent_a_department popular_department manufacturer  ...  \\\n",
       "0                  1.250155             1346.5        397.0  ...   \n",
       "1                  1.059868        1163.666667       4303.0  ...   \n",
       "\n",
       "  is_commodity_desc_miss is_sub_commodity_desc_miss  \\\n",
       "0                  False                      False   \n",
       "1                  False                      False   \n",
       "\n",
       "  is_curr_size_of_product_miss is_age_desc_miss is_marital_status_code_miss  \\\n",
       "0                        False            False                       False   \n",
       "1                        False            False                       False   \n",
       "\n",
       "  is_income_desc_miss is_homeowner_desc_miss is_hh_comp_desc_miss  \\\n",
       "0               False                  False                False   \n",
       "1               False                  False                False   \n",
       "\n",
       "  is_household_size_desc_miss is_kid_category_desc_miss  \n",
       "0                       False                     False  \n",
       "1                       False                     False  \n",
       "\n",
       "[2 rows x 98 columns]"
      ]
     },
     "execution_count": 167,
     "metadata": {},
     "output_type": "execute_result"
    }
   ],
   "source": [
    "from sklearn.impute import SimpleImputer\n",
    "\n",
    "df_ranker_train_copy = df_ranker_train.copy()\n",
    "\n",
    "\n",
    "for num_column in float_columns:\n",
    "    mean = round(df_ranker_train_copy[num_column].median(), 3)\n",
    "    df_ranker_train_copy[num_column] = df_ranker_train_copy[num_column].fillna(mean)\n",
    "\n",
    "cat_imputer = SimpleImputer(strategy='most_frequent', add_indicator=True)\n",
    "\n",
    "def fill_nan(df_ranker_train_copy, imputer, nan_columns):\n",
    "\n",
    "    columns = df_ranker_train_copy.columns.to_list()\n",
    "    columns.extend(['is_' + column + '_miss' for column in nan_columns])\n",
    "    \n",
    "\n",
    "    df_ranker_train_copy = pd.DataFrame(\n",
    "        data=imputer.fit_transform(df_ranker_train_copy),\n",
    "        columns=columns\n",
    "    )\n",
    "    return df_ranker_train_copy\n",
    "\n",
    "df_ranker_train_copy = fill_nan(df_ranker_train_copy, cat_imputer, cat_columns)\n",
    "\n",
    "df_ranker_train_copy.head(2)"
   ]
  },
  {
   "cell_type": "code",
   "execution_count": 168,
   "id": "4fa43f8b",
   "metadata": {},
   "outputs": [
    {
     "data": {
      "text/plain": [
       "user_id                          int64\n",
       "item_id                          int64\n",
       "target                         float64\n",
       "avg_price_a_department         float64\n",
       "avg_quantity_week              float64\n",
       "                                ...   \n",
       "is_income_desc_miss             object\n",
       "is_homeowner_desc_miss          object\n",
       "is_hh_comp_desc_miss            object\n",
       "is_household_size_desc_miss     object\n",
       "is_kid_category_desc_miss       object\n",
       "Length: 98, dtype: object"
      ]
     },
     "execution_count": 168,
     "metadata": {},
     "output_type": "execute_result"
    }
   ],
   "source": [
    "# преобразование в типов в изначальные\n",
    "num_columns = df_ranker_train.dtypes[~(df_ranker_train.dtypes == 'object')].index.to_list()\n",
    "for num_col in num_columns:\n",
    "    df_ranker_train_copy[num_col] = pd.to_numeric(df_ranker_train_copy[num_col])\n",
    "\n",
    "df_ranker_train_copy.dtypes"
   ]
  },
  {
   "cell_type": "code",
   "execution_count": 169,
   "id": "6b343b95",
   "metadata": {},
   "outputs": [
    {
     "data": {
      "text/plain": [
       "0"
      ]
     },
     "execution_count": 169,
     "metadata": {},
     "output_type": "execute_result"
    }
   ],
   "source": [
    "df_ranker_train = df_ranker_train_copy.copy()\n",
    "df_ranker_train.isna().sum().sum()"
   ]
  },
  {
   "cell_type": "markdown",
   "id": "369fa701",
   "metadata": {},
   "source": [
    "## Create train data set"
   ]
  },
  {
   "cell_type": "code",
   "execution_count": 170,
   "id": "d2af30b1",
   "metadata": {},
   "outputs": [],
   "source": [
    "X_train = df_ranker_train.drop('target', axis=1)\n",
    "y_train = df_ranker_train[['target']]"
   ]
  },
  {
   "cell_type": "code",
   "execution_count": 171,
   "id": "af5305dd",
   "metadata": {},
   "outputs": [
    {
     "name": "stdout",
     "output_type": "stream",
     "text": [
      "Memory usage of dataframe is 1631.09 MB\n",
      "Memory usage after optimization is: 292.47 MB\n",
      "Decreased by 82.1%\n"
     ]
    },
    {
     "data": {
      "text/html": [
       "<div>\n",
       "<style scoped>\n",
       "    .dataframe tbody tr th:only-of-type {\n",
       "        vertical-align: middle;\n",
       "    }\n",
       "\n",
       "    .dataframe tbody tr th {\n",
       "        vertical-align: top;\n",
       "    }\n",
       "\n",
       "    .dataframe thead th {\n",
       "        text-align: right;\n",
       "    }\n",
       "</style>\n",
       "<table border=\"1\" class=\"dataframe\">\n",
       "  <thead>\n",
       "    <tr style=\"text-align: right;\">\n",
       "      <th></th>\n",
       "      <th>user_id</th>\n",
       "      <th>item_id</th>\n",
       "      <th>avg_price_a_department</th>\n",
       "      <th>avg_quantity_week</th>\n",
       "      <th>popular_items_a_week</th>\n",
       "      <th>higher_then_median_price_percent</th>\n",
       "      <th>like_percent_a_department</th>\n",
       "      <th>popular_department</th>\n",
       "      <th>manufacturer</th>\n",
       "      <th>department</th>\n",
       "      <th>...</th>\n",
       "      <th>is_commodity_desc_miss</th>\n",
       "      <th>is_sub_commodity_desc_miss</th>\n",
       "      <th>is_curr_size_of_product_miss</th>\n",
       "      <th>is_age_desc_miss</th>\n",
       "      <th>is_marital_status_code_miss</th>\n",
       "      <th>is_income_desc_miss</th>\n",
       "      <th>is_homeowner_desc_miss</th>\n",
       "      <th>is_hh_comp_desc_miss</th>\n",
       "      <th>is_household_size_desc_miss</th>\n",
       "      <th>is_kid_category_desc_miss</th>\n",
       "    </tr>\n",
       "  </thead>\n",
       "  <tbody>\n",
       "    <tr>\n",
       "      <th>0</th>\n",
       "      <td>2070</td>\n",
       "      <td>8065410</td>\n",
       "      <td>3.103253</td>\n",
       "      <td>16.833334</td>\n",
       "      <td>16.833334</td>\n",
       "      <td>88.173615</td>\n",
       "      <td>1.250155</td>\n",
       "      <td>1346.500000</td>\n",
       "      <td>397.0</td>\n",
       "      <td>MEAT-PCKGD</td>\n",
       "      <td>...</td>\n",
       "      <td>False</td>\n",
       "      <td>False</td>\n",
       "      <td>False</td>\n",
       "      <td>False</td>\n",
       "      <td>False</td>\n",
       "      <td>False</td>\n",
       "      <td>False</td>\n",
       "      <td>False</td>\n",
       "      <td>False</td>\n",
       "      <td>False</td>\n",
       "    </tr>\n",
       "    <tr>\n",
       "      <th>1</th>\n",
       "      <td>2070</td>\n",
       "      <td>897954</td>\n",
       "      <td>5.267759</td>\n",
       "      <td>12.333333</td>\n",
       "      <td>12.333333</td>\n",
       "      <td>64.450409</td>\n",
       "      <td>1.059868</td>\n",
       "      <td>1163.666626</td>\n",
       "      <td>4303.0</td>\n",
       "      <td>MEAT</td>\n",
       "      <td>...</td>\n",
       "      <td>False</td>\n",
       "      <td>False</td>\n",
       "      <td>False</td>\n",
       "      <td>False</td>\n",
       "      <td>False</td>\n",
       "      <td>False</td>\n",
       "      <td>False</td>\n",
       "      <td>False</td>\n",
       "      <td>False</td>\n",
       "      <td>False</td>\n",
       "    </tr>\n",
       "  </tbody>\n",
       "</table>\n",
       "<p>2 rows × 97 columns</p>\n",
       "</div>"
      ],
      "text/plain": [
       "   user_id  item_id  avg_price_a_department  avg_quantity_week  \\\n",
       "0     2070  8065410                3.103253          16.833334   \n",
       "1     2070   897954                5.267759          12.333333   \n",
       "\n",
       "   popular_items_a_week  higher_then_median_price_percent  \\\n",
       "0             16.833334                         88.173615   \n",
       "1             12.333333                         64.450409   \n",
       "\n",
       "   like_percent_a_department  popular_department  manufacturer  department  \\\n",
       "0                   1.250155         1346.500000         397.0  MEAT-PCKGD   \n",
       "1                   1.059868         1163.666626        4303.0        MEAT   \n",
       "\n",
       "   ... is_commodity_desc_miss is_sub_commodity_desc_miss  \\\n",
       "0  ...                  False                      False   \n",
       "1  ...                  False                      False   \n",
       "\n",
       "  is_curr_size_of_product_miss is_age_desc_miss  is_marital_status_code_miss  \\\n",
       "0                        False            False                        False   \n",
       "1                        False            False                        False   \n",
       "\n",
       "   is_income_desc_miss  is_homeowner_desc_miss  is_hh_comp_desc_miss  \\\n",
       "0                False                   False                 False   \n",
       "1                False                   False                 False   \n",
       "\n",
       "   is_household_size_desc_miss  is_kid_category_desc_miss  \n",
       "0                        False                      False  \n",
       "1                        False                      False  \n",
       "\n",
       "[2 rows x 97 columns]"
      ]
     },
     "execution_count": 171,
     "metadata": {},
     "output_type": "execute_result"
    }
   ],
   "source": [
    "# from utils import reduce_mem_usage\n",
    "\n",
    "def reduce_mem_usage(df):\n",
    "    \"\"\" iterate through all the columns of a dataframe and modify the data type\n",
    "        to reduce memory usage.\n",
    "    \"\"\"\n",
    "    start_mem = df.memory_usage(deep=True).sum() / 1024 ** 2\n",
    "    print('Memory usage of dataframe is {:.2f} MB'.format(start_mem))\n",
    "\n",
    "    for col in df.columns:\n",
    "        col_type = df[col].dtype\n",
    "\n",
    "        if col_type != object:\n",
    "            c_min = df[col].min()\n",
    "            c_max = df[col].max()\n",
    "            if str(col_type)[:3] == 'int':\n",
    "                if c_min > np.iinfo(np.int8).min and c_max < np.iinfo(np.int8).max:\n",
    "                    df[col] = df[col].astype(np.int8)\n",
    "                elif c_min > np.iinfo(np.int16).min and c_max < np.iinfo(np.int16).max:\n",
    "                    df[col] = df[col].astype(np.int16)\n",
    "                elif c_min > np.iinfo(np.int32).min and c_max < np.iinfo(np.int32).max:\n",
    "                    df[col] = df[col].astype(np.int32)\n",
    "                elif c_min > np.iinfo(np.int64).min and c_max < np.iinfo(np.int64).max:\n",
    "                    df[col] = df[col].astype(np.int64)\n",
    "            else:\n",
    "                if c_min > np.finfo(np.float32).min and c_max < np.finfo(np.float32).max:\n",
    "                    df[col] = df[col].astype(np.float32)\n",
    "                else:\n",
    "                    df[col] = df[col].astype(np.float64)\n",
    "        else:\n",
    "            df[col] = df[col].astype('category')\n",
    "\n",
    "    end_mem = df.memory_usage(deep=True).sum() / 1024 ** 2\n",
    "    print('Memory usage after optimization is: {:.2f} MB'.format(end_mem))\n",
    "    print('Decreased by {:.1f}%'.format(100 * (start_mem - end_mem) / start_mem))\n",
    "\n",
    "    return df\n",
    "\n",
    "reduce_mem_usage(X_train).head(2)"
   ]
  },
  {
   "cell_type": "markdown",
   "id": "2e3675b1",
   "metadata": {},
   "source": [
    "\n",
    "# Select second level model"
   ]
  },
  {
   "cell_type": "code",
   "execution_count": 172,
   "id": "9276f0dc",
   "metadata": {},
   "outputs": [
    {
     "data": {
      "text/plain": [
       "['department',\n",
       " 'brand',\n",
       " 'commodity_desc',\n",
       " 'sub_commodity_desc',\n",
       " 'curr_size_of_product',\n",
       " 'age_desc',\n",
       " 'marital_status_code',\n",
       " 'income_desc',\n",
       " 'homeowner_desc',\n",
       " 'hh_comp_desc',\n",
       " 'household_size_desc',\n",
       " 'kid_category_desc',\n",
       " 'is_department_miss',\n",
       " 'is_brand_miss',\n",
       " 'is_commodity_desc_miss',\n",
       " 'is_sub_commodity_desc_miss',\n",
       " 'is_curr_size_of_product_miss',\n",
       " 'is_age_desc_miss',\n",
       " 'is_marital_status_code_miss',\n",
       " 'is_income_desc_miss',\n",
       " 'is_homeowner_desc_miss',\n",
       " 'is_hh_comp_desc_miss',\n",
       " 'is_household_size_desc_miss',\n",
       " 'is_kid_category_desc_miss']"
      ]
     },
     "execution_count": 172,
     "metadata": {},
     "output_type": "execute_result"
    }
   ],
   "source": [
    "cat_features = X_train.dtypes[X_train.dtypes == 'category'].index.tolist()\n",
    "cat_features"
   ]
  },
  {
   "cell_type": "code",
   "execution_count": 173,
   "id": "392a5b6d",
   "metadata": {
    "scrolled": true
   },
   "outputs": [
    {
     "name": "stderr",
     "output_type": "stream",
     "text": [
      "/Users/janeyaromich/miniconda3/lib/python3.9/site-packages/lightgbm/basic.py:1513: UserWarning: categorical_column in param dict is overridden.\n",
      "  _log_warning(f'{cat_alias} in param dict is overridden.')\n"
     ]
    }
   ],
   "source": [
    "light_gbm_model = LightGBMRecommendation(categorical_column=cat_features)\n",
    "light_gbm_model.fit(X_train, y_train.values.ravel())"
   ]
  },
  {
   "cell_type": "markdown",
   "id": "ae8df196",
   "metadata": {},
   "source": [
    "## Improve second level model"
   ]
  },
  {
   "cell_type": "code",
   "execution_count": 174,
   "id": "046437af",
   "metadata": {},
   "outputs": [],
   "source": [
    "# [08:52<00:00, 10.66s/trial, best loss: -0.21502100840336139]\n",
    "\n",
    "best_params = {\n",
    "    'learning_rate': 0.08, \n",
    "    'max_depth': 40, \n",
    "    # 'min_child_samples': 3, \n",
    "    'min_data_in_leaf': 180, \n",
    "    'n_estimators': 30, \n",
    "    'num_leaves': 2\n",
    "}\n",
    "\n"
   ]
  },
  {
   "cell_type": "code",
   "execution_count": null,
   "id": "dc949644",
   "metadata": {
    "pycharm": {
     "name": "#%%\n"
    }
   },
   "outputs": [],
   "source": [
    "from hyperopt import tpe, hp, fmin, STATUS_OK, Trials\n",
    "\n",
    "\n",
    "space = {\n",
    "    'max_depth': hp.choice('max_depth', [40, 50, 60, 70]),\n",
    "#     'num_iterations': hp.choice('num_iterations', [3,1,2,6,4,5,7,8,9,10]),\n",
    "    'learning_rate': hp.choice('learning_rate', [0.08, 0.08, 0.1]),\n",
    "    'num_leaves': hp.choice('num_leaves', [2, 4, 5, 10]),\n",
    "    'n_estimators': hp.choice('n_estimators', [20, 10, 30]),\n",
    "    'min_data_in_leaf': hp.choice('min_data_in_leaf', [180, 170, 160, 190]),\n",
    "    # 'min_child_samples': hp.choice('min_child_samples', [32, 35, 30, 25, 27])\n",
    "}"
   ]
  },
  {
   "cell_type": "code",
   "execution_count": null,
   "id": "66fa012b",
   "metadata": {},
   "outputs": [],
   "source": [
    "def calc_precision(df_data, top_k):\n",
    "    for col_name in df_data.columns[2:]:\n",
    "        yield col_name, df_data.apply(lambda row: precision_at_k(row[col_name], row[ACTUAL_COL], k=top_k), axis=1).mean()"
   ]
  },
  {
   "cell_type": "code",
   "execution_count": null,
   "id": "7d35c8fb",
   "metadata": {
    "pycharm": {
     "name": "#%%\n"
    }
   },
   "outputs": [],
   "source": [
    "N_PREDICTS = 5\n",
    "\n",
    "def hyperparametr_tuning(params):\n",
    "    model = LightGBMRecommendation(**params,\n",
    "                                   categorical_column=cat_features,\n",
    "                                   objective='binary'\n",
    "#                                     num_threads=4\n",
    "                                  )\n",
    "\n",
    "    model.fit(X_train, y_train.values.ravel())\n",
    "\n",
    "    result_eval_ranker = data_val_ranker.groupby(USER_COL)[ITEM_COL].unique().reset_index()\n",
    "    result_eval_ranker.columns=[USER_COL, ACTUAL_COL]\n",
    "\n",
    "    result_eval_ranker['lgbm'] = result_eval_ranker['user_id'].apply(lambda x: model.recommend(x, N=N_PREDICTS))\n",
    "\n",
    "    test_precision = sorted(calc_precision(result_eval_ranker, N_PREDICTS), key=lambda x: x[1], reverse=True)[0][1]\n",
    "\n",
    "    return {'loss': -test_precision, 'status': STATUS_OK}"
   ]
  },
  {
   "cell_type": "code",
   "execution_count": null,
   "id": "533eca7a",
   "metadata": {
    "pycharm": {
     "name": "#%%\n"
    },
    "scrolled": true
   },
   "outputs": [],
   "source": [
    "trial = Trials()\n",
    "\n",
    "# best = fmin(\n",
    "#     fn=hyperparametr_tuning,\n",
    "#     space=space,\n",
    "#     algo=tpe.suggest,\n",
    "#     max_evals=50,\n",
    "#     trials=trial\n",
    "# )\n",
    "\n",
    "# print(f'Best {best}')\n",
    "# send_tg_message('I calc hyperparametr for 1 level model. Best params is {}'.format(best))"
   ]
  },
  {
   "cell_type": "markdown",
   "id": "4fba863f",
   "metadata": {},
   "source": [
    "## Fit improved second model"
   ]
  },
  {
   "cell_type": "code",
   "execution_count": 175,
   "id": "2375159a",
   "metadata": {},
   "outputs": [
    {
     "name": "stderr",
     "output_type": "stream",
     "text": [
      "/Users/janeyaromich/miniconda3/lib/python3.9/site-packages/lightgbm/basic.py:1513: UserWarning: categorical_column in param dict is overridden.\n",
      "  _log_warning(f'{cat_alias} in param dict is overridden.')\n"
     ]
    },
    {
     "name": "stdout",
     "output_type": "stream",
     "text": [
      "[LightGBM] [Warning] min_data_in_leaf is set=180, min_child_samples=20 will be ignored. Current value: min_data_in_leaf=180\n"
     ]
    }
   ],
   "source": [
    "second_model = LightGBMRecommendation(**best_params, categorical_column=cat_features)\n",
    "second_model.fit(X_train=X_train, y_train=y_train.values.ravel())"
   ]
  },
  {
   "cell_type": "markdown",
   "id": "9be14aa7",
   "metadata": {},
   "source": [
    "# Postfiltering"
   ]
  },
  {
   "cell_type": "code",
   "execution_count": 185,
   "id": "de8283b0",
   "metadata": {},
   "outputs": [
    {
     "data": {
      "text/html": [
       "<div>\n",
       "<style scoped>\n",
       "    .dataframe tbody tr th:only-of-type {\n",
       "        vertical-align: middle;\n",
       "    }\n",
       "\n",
       "    .dataframe tbody tr th {\n",
       "        vertical-align: top;\n",
       "    }\n",
       "\n",
       "    .dataframe thead th {\n",
       "        text-align: right;\n",
       "    }\n",
       "</style>\n",
       "<table border=\"1\" class=\"dataframe\">\n",
       "  <thead>\n",
       "    <tr style=\"text-align: right;\">\n",
       "      <th></th>\n",
       "      <th>user_id</th>\n",
       "      <th>item_id</th>\n",
       "      <th>quantity</th>\n",
       "    </tr>\n",
       "  </thead>\n",
       "  <tbody>\n",
       "    <tr>\n",
       "      <th>1223029</th>\n",
       "      <td>2337</td>\n",
       "      <td>1120741</td>\n",
       "      <td>234</td>\n",
       "    </tr>\n",
       "    <tr>\n",
       "      <th>434552</th>\n",
       "      <td>853</td>\n",
       "      <td>975938</td>\n",
       "      <td>220</td>\n",
       "    </tr>\n",
       "    <tr>\n",
       "      <th>775083</th>\n",
       "      <td>1510</td>\n",
       "      <td>1126203</td>\n",
       "      <td>217</td>\n",
       "    </tr>\n",
       "    <tr>\n",
       "      <th>774417</th>\n",
       "      <td>1510</td>\n",
       "      <td>894236</td>\n",
       "      <td>215</td>\n",
       "    </tr>\n",
       "    <tr>\n",
       "      <th>531201</th>\n",
       "      <td>1023</td>\n",
       "      <td>6533889</td>\n",
       "      <td>214</td>\n",
       "    </tr>\n",
       "    <tr>\n",
       "      <th>...</th>\n",
       "      <td>...</td>\n",
       "      <td>...</td>\n",
       "      <td>...</td>\n",
       "    </tr>\n",
       "    <tr>\n",
       "      <th>506027</th>\n",
       "      <td>979</td>\n",
       "      <td>917543</td>\n",
       "      <td>1</td>\n",
       "    </tr>\n",
       "    <tr>\n",
       "      <th>506028</th>\n",
       "      <td>979</td>\n",
       "      <td>917654</td>\n",
       "      <td>1</td>\n",
       "    </tr>\n",
       "    <tr>\n",
       "      <th>506030</th>\n",
       "      <td>979</td>\n",
       "      <td>918335</td>\n",
       "      <td>1</td>\n",
       "    </tr>\n",
       "    <tr>\n",
       "      <th>506032</th>\n",
       "      <td>979</td>\n",
       "      <td>918588</td>\n",
       "      <td>1</td>\n",
       "    </tr>\n",
       "    <tr>\n",
       "      <th>1314371</th>\n",
       "      <td>2500</td>\n",
       "      <td>17104904</td>\n",
       "      <td>1</td>\n",
       "    </tr>\n",
       "  </tbody>\n",
       "</table>\n",
       "<p>1314372 rows × 3 columns</p>\n",
       "</div>"
      ],
      "text/plain": [
       "         user_id   item_id  quantity\n",
       "1223029     2337   1120741       234\n",
       "434552       853    975938       220\n",
       "775083      1510   1126203       217\n",
       "774417      1510    894236       215\n",
       "531201      1023   6533889       214\n",
       "...          ...       ...       ...\n",
       "506027       979    917543         1\n",
       "506028       979    917654         1\n",
       "506030       979    918335         1\n",
       "506032       979    918588         1\n",
       "1314371     2500  17104904         1\n",
       "\n",
       "[1314372 rows x 3 columns]"
      ]
     },
     "execution_count": 185,
     "metadata": {},
     "output_type": "execute_result"
    }
   ],
   "source": [
    "popular_recommendation = PopularItemsRecommendation(warm_start=True)\n",
    "popular_recommendation.fit(train_data)"
   ]
  },
  {
   "cell_type": "code",
   "execution_count": 205,
   "id": "8c0e9cd5",
   "metadata": {},
   "outputs": [],
   "source": [
    "\n",
    "\n",
    "def postfilter_items(recommendations, N=5):\n",
    "        \"\"\"Пост-фильтрация товаров\n",
    "        \n",
    "        Input\n",
    "        -----\n",
    "        recommendations: list\n",
    "            Ранжированный список item_id для рекомендаций\n",
    "        item_info: pd.DataFrame\n",
    "            Датафрейм с информацией о товарах\n",
    "        \"\"\"\n",
    "        \n",
    "        # Уникальность\n",
    "        # recommendations = list(set(recommendations)) - неверно! так теряется порядок\n",
    "        unique_recommendations = []\n",
    "        [unique_recommendations.append(item) for item in recommendations if item not in unique_recommendations]\n",
    "        \n",
    "        final_recommendations = []\n",
    "        \n",
    "        # ! рассширяем по топ полулярными\n",
    "        if len(unique_recommendations) < N:\n",
    "            unique_recommendations.extend(self.popular_recommendation.recommend( \n",
    "                N=np.abs(len(unique_recommendations) - N) \n",
    "            ))\n",
    "            final_recommendations = unique_recommendations\n",
    "            print('!')\n",
    "        else:\n",
    "            final_recommendations = unique_recommendations[:N]\n",
    "                \n",
    "        assert len(final_recommendations) == N, 'Количество рекомендаций != {}'.format(N)\n",
    "        return final_recommendations\n",
    "    "
   ]
  },
  {
   "cell_type": "markdown",
   "id": "05f8e4b3",
   "metadata": {},
   "source": [
    "# Predict on validation data"
   ]
  },
  {
   "cell_type": "code",
   "execution_count": 206,
   "id": "9b4fe3d7",
   "metadata": {},
   "outputs": [
    {
     "data": {
      "text/html": [
       "<div>\n",
       "<style scoped>\n",
       "    .dataframe tbody tr th:only-of-type {\n",
       "        vertical-align: middle;\n",
       "    }\n",
       "\n",
       "    .dataframe tbody tr th {\n",
       "        vertical-align: top;\n",
       "    }\n",
       "\n",
       "    .dataframe thead th {\n",
       "        text-align: right;\n",
       "    }\n",
       "</style>\n",
       "<table border=\"1\" class=\"dataframe\">\n",
       "  <thead>\n",
       "    <tr style=\"text-align: right;\">\n",
       "      <th></th>\n",
       "      <th>user_id</th>\n",
       "      <th>actual</th>\n",
       "    </tr>\n",
       "  </thead>\n",
       "  <tbody>\n",
       "    <tr>\n",
       "      <th>0</th>\n",
       "      <td>1</td>\n",
       "      <td>[821867, 834484, 856942, 865456, 889248, 90795...</td>\n",
       "    </tr>\n",
       "    <tr>\n",
       "      <th>1</th>\n",
       "      <td>6</td>\n",
       "      <td>[920308, 926804, 946489, 1006718, 1017061, 107...</td>\n",
       "    </tr>\n",
       "  </tbody>\n",
       "</table>\n",
       "</div>"
      ],
      "text/plain": [
       "   user_id                                             actual\n",
       "0        1  [821867, 834484, 856942, 865456, 889248, 90795...\n",
       "1        6  [920308, 926804, 946489, 1006718, 1017061, 107..."
      ]
     },
     "execution_count": 206,
     "metadata": {},
     "output_type": "execute_result"
    }
   ],
   "source": [
    "result_eval_ranker = data_val_ranker.groupby(USER_COL)[ITEM_COL].unique().reset_index()\n",
    "result_eval_ranker.columns=[USER_COL, ACTUAL_COL]\n",
    "result_eval_ranker.head(2)"
   ]
  },
  {
   "cell_type": "code",
   "execution_count": 207,
   "id": "94f6a050",
   "metadata": {},
   "outputs": [
    {
     "name": "stderr",
     "output_type": "stream",
     "text": [
      "100%|██████████| 1904/1904 [00:05<00:00, 360.21it/s]\n"
     ]
    },
    {
     "data": {
      "text/html": [
       "<div>\n",
       "<style scoped>\n",
       "    .dataframe tbody tr th:only-of-type {\n",
       "        vertical-align: middle;\n",
       "    }\n",
       "\n",
       "    .dataframe tbody tr th {\n",
       "        vertical-align: top;\n",
       "    }\n",
       "\n",
       "    .dataframe thead th {\n",
       "        text-align: right;\n",
       "    }\n",
       "</style>\n",
       "<table border=\"1\" class=\"dataframe\">\n",
       "  <thead>\n",
       "    <tr style=\"text-align: right;\">\n",
       "      <th></th>\n",
       "      <th>user_id</th>\n",
       "      <th>actual</th>\n",
       "      <th>recommendations</th>\n",
       "    </tr>\n",
       "  </thead>\n",
       "  <tbody>\n",
       "    <tr>\n",
       "      <th>0</th>\n",
       "      <td>1</td>\n",
       "      <td>[821867, 834484, 856942, 865456, 889248, 90795...</td>\n",
       "      <td>[840361, 995242, 1082185, 995785, 914190]</td>\n",
       "    </tr>\n",
       "    <tr>\n",
       "      <th>1</th>\n",
       "      <td>6</td>\n",
       "      <td>[920308, 926804, 946489, 1006718, 1017061, 107...</td>\n",
       "      <td>[1029743, 995242, 883404, 862349, 1082185]</td>\n",
       "    </tr>\n",
       "    <tr>\n",
       "      <th>2</th>\n",
       "      <td>7</td>\n",
       "      <td>[840386, 889774, 898068, 909714, 929067, 95347...</td>\n",
       "      <td>[1082185, 1058997, 1106523, 1133018, 1126899]</td>\n",
       "    </tr>\n",
       "    <tr>\n",
       "      <th>3</th>\n",
       "      <td>8</td>\n",
       "      <td>[835098, 872137, 910439, 924610, 992977, 10412...</td>\n",
       "      <td>[1082185, 883404, 1133018, 923746, 1070820]</td>\n",
       "    </tr>\n",
       "    <tr>\n",
       "      <th>4</th>\n",
       "      <td>9</td>\n",
       "      <td>[864335, 990865, 1029743, 9297474, 10457112, 8...</td>\n",
       "      <td>[1106523, 1133018, 1029743, 883404, 1126899]</td>\n",
       "    </tr>\n",
       "  </tbody>\n",
       "</table>\n",
       "</div>"
      ],
      "text/plain": [
       "   user_id                                             actual  \\\n",
       "0        1  [821867, 834484, 856942, 865456, 889248, 90795...   \n",
       "1        6  [920308, 926804, 946489, 1006718, 1017061, 107...   \n",
       "2        7  [840386, 889774, 898068, 909714, 929067, 95347...   \n",
       "3        8  [835098, 872137, 910439, 924610, 992977, 10412...   \n",
       "4        9  [864335, 990865, 1029743, 9297474, 10457112, 8...   \n",
       "\n",
       "                                 recommendations  \n",
       "0      [840361, 995242, 1082185, 995785, 914190]  \n",
       "1     [1029743, 995242, 883404, 862349, 1082185]  \n",
       "2  [1082185, 1058997, 1106523, 1133018, 1126899]  \n",
       "3    [1082185, 883404, 1133018, 923746, 1070820]  \n",
       "4   [1106523, 1133018, 1029743, 883404, 1126899]  "
      ]
     },
     "execution_count": 207,
     "metadata": {},
     "output_type": "execute_result"
    }
   ],
   "source": [
    "from tqdm import tqdm\n",
    "\n",
    "tqdm.pandas()\n",
    "\n",
    "result_eval_ranker['recommendations']  = result_eval_ranker.user_id.progress_apply(\n",
    "    lambda x: postfilter_items(\n",
    "        recommendations=second_model.recommend(x, N=50),\n",
    "        N=5\n",
    "    ) \n",
    ")\n",
    "\n",
    "result_eval_ranker.head()"
   ]
  },
  {
   "cell_type": "code",
   "execution_count": 208,
   "id": "4401e2a7",
   "metadata": {},
   "outputs": [
    {
     "name": "stdout",
     "output_type": "stream",
     "text": [
      "[('recommendations', 0.24306722689075633)]\n"
     ]
    }
   ],
   "source": [
    "TOPK_PRECISION = 5\n",
    "\n",
    "print(sorted(calc_precision(result_eval_ranker, TOPK_PRECISION), key=lambda x: x[1], reverse=True))"
   ]
  },
  {
   "cell_type": "markdown",
   "id": "e5000388",
   "metadata": {},
   "source": [
    "# Create a general model to production"
   ]
  },
  {
   "cell_type": "code",
   "execution_count": 22,
   "id": "e52fdd0b",
   "metadata": {},
   "outputs": [],
   "source": [
    "cat_features = [\n",
    "    'department',\n",
    "    'brand',\n",
    "    'commodity_desc',\n",
    "    'sub_commodity_desc',\n",
    "    'curr_size_of_product',\n",
    "    'age_desc',\n",
    "    'marital_status_code',\n",
    "    'income_desc',\n",
    "    'homeowner_desc',\n",
    "    'hh_comp_desc',\n",
    "    'household_size_desc',\n",
    "    'kid_category_desc',\n",
    "    'is_department_miss',\n",
    "    'is_brand_miss',\n",
    "    'is_commodity_desc_miss',\n",
    "    'is_sub_commodity_desc_miss',\n",
    "    'is_curr_size_of_product_miss',\n",
    "    'is_age_desc_miss',\n",
    "    'is_marital_status_code_miss',\n",
    "    'is_income_desc_miss',\n",
    "    'is_homeowner_desc_miss',\n",
    "    'is_hh_comp_desc_miss',\n",
    "    'is_household_size_desc_miss',\n",
    "    'is_kid_category_desc_miss'\n",
    "]"
   ]
  },
  {
   "cell_type": "code",
   "execution_count": 133,
   "id": "cbf7f476",
   "metadata": {},
   "outputs": [
    {
     "name": "stdout",
     "output_type": "stream",
     "text": [
      "Memory usage of dataframe is 1921.61 MB\n",
      "Memory usage after optimization is: 242.33 MB\n",
      "Decreased by 87.4%\n"
     ]
    },
    {
     "name": "stderr",
     "output_type": "stream",
     "text": [
      "/Users/janeyaromich/miniconda3/lib/python3.9/site-packages/lightgbm/basic.py:1513: UserWarning: categorical_column in param dict is overridden.\n",
      "  _log_warning(f'{cat_alias} in param dict is overridden.')\n"
     ]
    },
    {
     "name": "stdout",
     "output_type": "stream",
     "text": [
      "[LightGBM] [Warning] min_data_in_leaf is set=180, min_child_samples=20 will be ignored. Current value: min_data_in_leaf=180\n"
     ]
    }
   ],
   "source": [
    "from general_recommenders import GeneralModel\n",
    "\n",
    "train_data, test_data = GeneralModel.remake_cold_start_to_warm_start(train_data, test_data)\n",
    "\n",
    "best_params_for_second_models = {\n",
    "    'learning_rate': 0.08, \n",
    "    'max_depth': 40, \n",
    "    # 'min_child_samples': 3, \n",
    "    'min_data_in_leaf': 180, \n",
    "    'n_estimators': 30, \n",
    "    'num_leaves': 2\n",
    "}\n",
    "input_data = prefilter_items(\n",
    "                data=train_data,\n",
    "                items_data=item_features,\n",
    "                take_n_popular=5000,\n",
    "                warm_start=True\n",
    "            )\n",
    "\n",
    "general_model_params = {\n",
    "    'first_level_model': ALSRecommendation(\n",
    "        data=input_data,\n",
    "        item_features=item_features,\n",
    "        iterations=70,\n",
    "        n_factors=400,\n",
    "        regularization=0.018,\n",
    "        warm_start=True\n",
    "    ),\n",
    "    \n",
    "    'second_level_model': LightGBMRecommendation(\n",
    "        categorical_column=cat_features,\n",
    "        **best_params_for_second_models\n",
    "    ),\n",
    "    'item_features': item_features,\n",
    "    'user_features': user_features\n",
    "}  \n",
    "\n",
    "general_model = GeneralModel(**general_model_params)\n",
    "general_model.fit(input_data)\n"
   ]
  },
  {
   "cell_type": "markdown",
   "id": "a66eab9b",
   "metadata": {},
   "source": [
    "# Predict for test"
   ]
  },
  {
   "cell_type": "code",
   "execution_count": 134,
   "id": "43b69c2f",
   "metadata": {},
   "outputs": [
    {
     "name": "stderr",
     "output_type": "stream",
     "text": [
      "100%|██████████| 1884/1884 [00:07<00:00, 248.80it/s]\n"
     ]
    },
    {
     "name": "stdout",
     "output_type": "stream",
     "text": [
      "[('recommendation', 0.1383227176220807)]\n"
     ]
    }
   ],
   "source": [
    "RECOMEND_COUNT = 5\n",
    "\n",
    "# ! Test data\n",
    "data = test_data\n",
    "\n",
    "result = data.groupby('user_id')['item_id'].unique().reset_index()\n",
    "result.columns=['user_id', 'actual']\n",
    "\n",
    "result = result.merge(\n",
    "    general_model.recommned(\n",
    "        users=general_model.get_unique_users(data),\n",
    "        N=RECOMEND_COUNT\n",
    "    ),\n",
    "    on='user_id',\n",
    "    how='left'\n",
    ")\n",
    "\n",
    "TOPK_PRECISION=5\n",
    "\n",
    "print(sorted(calc_precision(result, TOPK_PRECISION), key=lambda x: x[1], reverse=True))\n"
   ]
  },
  {
   "cell_type": "code",
   "execution_count": 87,
   "id": "8a4b9a70",
   "metadata": {},
   "outputs": [],
   "source": [
    "def calc_precision(df_data, top_k):\n",
    "    for col_name in df_data.columns[2:]:\n",
    "        yield col_name, df_data.apply(lambda row: precision_at_k(row[col_name], row['actual'], k=top_k), axis=1).mean()"
   ]
  },
  {
   "cell_type": "code",
   "execution_count": 88,
   "id": "c29c9448",
   "metadata": {},
   "outputs": [
    {
     "name": "stderr",
     "output_type": "stream",
     "text": [
      "/Users/janeyaromich/Documents/ML/RecSys/src/metrics.py:23: RuntimeWarning: invalid value encountered in long_scalars\n",
      "  return flags.sum() / len(recommended_list)\n"
     ]
    },
    {
     "data": {
      "text/plain": [
       "[('recommendation', 0.10485333333333333)]"
      ]
     },
     "execution_count": 88,
     "metadata": {},
     "output_type": "execute_result"
    }
   ],
   "source": [
    "TOPK_PRECISION=5\n",
    "\n",
    "sorted(calc_precision(result, TOPK_PRECISION), key=lambda x: x[1], reverse=True)"
   ]
  },
  {
   "cell_type": "code",
   "execution_count": null,
   "id": "b38191a5",
   "metadata": {},
   "outputs": [],
   "source": []
  }
 ],
 "metadata": {
  "kernelspec": {
   "display_name": "Python 3 (ipykernel)",
   "language": "python",
   "name": "python3"
  },
  "language_info": {
   "codemirror_mode": {
    "name": "ipython",
    "version": 3
   },
   "file_extension": ".py",
   "mimetype": "text/x-python",
   "name": "python",
   "nbconvert_exporter": "python",
   "pygments_lexer": "ipython3",
   "version": "3.9.7"
  }
 },
 "nbformat": 4,
 "nbformat_minor": 5
}
